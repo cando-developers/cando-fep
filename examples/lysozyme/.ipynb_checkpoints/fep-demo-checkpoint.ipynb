{
 "cells": [
  {
   "cell_type": "code",
   "execution_count": 1,
   "metadata": {},
   "outputs": [
    {
     "data": {
      "text/plain": [
       "T"
      ]
     },
     "execution_count": 1,
     "metadata": {},
     "output_type": "execute_result"
    }
   ],
   "source": [
    "(start-swank 4005)"
   ]
  },
  {
   "cell_type": "markdown",
   "metadata": {},
   "source": [
    "# A Cando-app to setup free energy perturbation calculations using AMBER"
   ]
  },
  {
   "cell_type": "markdown",
   "metadata": {},
   "source": [
    "First we do the following:\n",
    "\n",
    "  * Load the FEP package.\n",
    "  * Set things up to carry out geometry optimization using Amber."
   ]
  },
  {
   "cell_type": "code",
   "execution_count": 2,
   "metadata": {},
   "outputs": [
    {
     "data": {
      "text/plain": [
       "#P\"/Users/meister/Development/fep/examples/lysozyme/\""
      ]
     },
     "execution_count": 2,
     "metadata": {},
     "output_type": "execute_result"
    }
   ],
   "source": [
    "(setf *default-pathname-defaults* #P\"~/Development/fep/examples/lysozyme/\")"
   ]
  },
  {
   "cell_type": "code",
   "execution_count": 3,
   "metadata": {},
   "outputs": [
    {
     "data": {
      "text/plain": [
       "NIL"
      ]
     },
     "execution_count": 3,
     "metadata": {},
     "output_type": "execute_result"
    }
   ],
   "source": [
    "(require :asdf)"
   ]
  },
  {
   "cell_type": "code",
   "execution_count": 4,
   "metadata": {
    "scrolled": true
   },
   "outputs": [
    {
     "data": {
      "text/plain": [
       "#<DEFINE-OP >"
      ]
     },
     "execution_count": 4,
     "metadata": {},
     "output_type": "execute_result"
    }
   ],
   "source": [
    "(asdf:load-asd (merge-pathnames \"~/Development/fep/src/fep.asd\"))"
   ]
  },
  {
   "cell_type": "code",
   "execution_count": 5,
   "metadata": {
    "scrolled": true
   },
   "outputs": [
    {
     "name": "stdout",
     "output_type": "stream",
     "text": [
      "To load \"fep\":\n",
      "  Load 1 ASDF system:\n",
      "    fep\n",
      "\n",
      "; Loading \"fep\"\n",
      "\n"
     ]
    },
    {
     "data": {
      "text/plain": [
       "(:FEP)"
      ]
     },
     "execution_count": 5,
     "metadata": {},
     "output_type": "execute_result"
    }
   ],
   "source": [
    "(ql:quickload :fep)"
   ]
  },
  {
   "cell_type": "code",
   "execution_count": 6,
   "metadata": {},
   "outputs": [
    {
     "data": {
      "text/plain": [
       "(#P\"/Users/meister/Development/amber18/dat/antechamber/\"\n",
       " #P\"/Users/meister/Development/amber18/dat/leap/cmd/\"\n",
       " #P\"/Users/meister/Development/amber18/dat/leap/parm/\"\n",
       " #P\"/Users/meister/Development/amber18/dat/leap/lib/\"\n",
       " #P\"/Users/meister/Development/amber18/dat/leap/prep/\")"
      ]
     },
     "execution_count": 6,
     "metadata": {},
     "output_type": "execute_result"
    }
   ],
   "source": [
    "(leap.core::clear-path)\n",
    "(add-path \"amber:dat;leap;prep;\")\n",
    "(add-path \"amber:dat;leap;lib;\")\n",
    "(add-path \"amber:dat;leap;parm;\")\n",
    "(add-path \"amber:dat;leap;cmd;\")\n",
    "(add-path \"amber:dat;antechamber;\")"
   ]
  },
  {
   "cell_type": "code",
   "execution_count": 7,
   "metadata": {},
   "outputs": [
    {
     "data": {
      "text/plain": [
       "NIL"
      ]
     },
     "execution_count": 7,
     "metadata": {},
     "output_type": "execute_result"
    }
   ],
   "source": [
    "(clear-force-field)"
   ]
  },
  {
   "cell_type": "code",
   "execution_count": 8,
   "metadata": {},
   "outputs": [
    {
     "data": {
      "text/plain": [
       "(#<FORCE-FIELD ATOMTYPE_GFF.DEF>)"
      ]
     },
     "execution_count": 8,
     "metadata": {},
     "output_type": "execute_result"
    }
   ],
   "source": [
    "(load-atom-type-rules \"ATOMTYPE_GFF.DEF\")"
   ]
  },
  {
   "cell_type": "code",
   "execution_count": 9,
   "metadata": {},
   "outputs": [
    {
     "name": "stderr",
     "output_type": "stream",
     "text": [
      "\n",
      "add-atom-types doesn't do anything\n",
      "\n",
      "Warning!  Skipping 10-12 hbond\n",
      "\n",
      "\n",
      "Warning!  Skipping force field atom equivalences\n",
      "\n"
     ]
    },
    {
     "data": {
      "text/plain": [
       "((T))"
      ]
     },
     "execution_count": 9,
     "metadata": {},
     "output_type": "execute_result"
    }
   ],
   "source": [
    "source leaprc.ff14SB.redq"
   ]
  },
  {
   "cell_type": "code",
   "execution_count": 10,
   "metadata": {},
   "outputs": [
    {
     "name": "stderr",
     "output_type": "stream",
     "text": [
      "\n",
      "add-atom-types doesn't do anything\n",
      "\n",
      "Warning!  Skipping 10-12 hbond\n",
      "\n",
      "\n",
      "Warning!  Skipping force field atom equivalences\n",
      "\n"
     ]
    },
    {
     "data": {
      "text/plain": [
       "((T))"
      ]
     },
     "execution_count": 10,
     "metadata": {},
     "output_type": "execute_result"
    }
   ],
   "source": [
    "source leaprc.gaff"
   ]
  },
  {
   "cell_type": "code",
   "execution_count": 11,
   "metadata": {},
   "outputs": [
    {
     "data": {
      "text/plain": [
       "((:DEFAULT #<FORCE-FIELD gaff.dat> #<FORCE-FIELD frcmod.ff14SB>\n",
       "  #<FORCE-FIELD parm10.dat> #<FORCE-FIELD ATOMTYPE_GFF.DEF>))"
      ]
     },
     "execution_count": 11,
     "metadata": {},
     "output_type": "execute_result"
    }
   ],
   "source": [
    "(list-force-fields)"
   ]
  },
  {
   "cell_type": "markdown",
   "metadata": {},
   "source": [
    "# Start a new FEP calculation"
   ]
  },
  {
   "cell_type": "code",
   "execution_count": 12,
   "metadata": {},
   "outputs": [
    {
     "data": {
      "text/plain": [
       "*FEPS*"
      ]
     },
     "execution_count": 12,
     "metadata": {},
     "output_type": "execute_result"
    }
   ],
   "source": [
    "(:= *feps* (make-instance 'fep::fep-calculation))"
   ]
  },
  {
   "cell_type": "code",
   "execution_count": 13,
   "metadata": {},
   "outputs": [
    {
     "data": {
      "text/plain": [
       "#<fep-calculation>"
      ]
     },
     "execution_count": 13,
     "metadata": {},
     "output_type": "execute_result"
    }
   ],
   "source": [
    "*feps*"
   ]
  },
  {
   "cell_type": "markdown",
   "metadata": {},
   "source": [
    "# New way to import sketch - use Chemdraw"
   ]
  },
  {
   "cell_type": "code",
   "execution_count": 14,
   "metadata": {},
   "outputs": [
    {
     "data": {
      "text/plain": [
       "*PICK*"
      ]
     },
     "execution_count": 14,
     "metadata": {},
     "output_type": "execute_result"
    }
   ],
   "source": [
    "(:= *tests* (list (cons :c1 (lambda (a) (eq (chem:get-name a) :c1)))\n",
    "                  (cons :c3 (lambda (a) (eq (chem:get-name a) :c3)))\n",
    "                  (cons :c5 (lambda (a) (eq (chem:get-name a) :c5)))))\n",
    "(:= *pick* (chem:compile-smarts \n",
    "             \"[C:6]1~[C<c1>:1]~C~[C<c3>:3]~C~[C<c5>:5]~C1\" :tests *tests*))"
   ]
  },
  {
   "cell_type": "code",
   "execution_count": 15,
   "metadata": {},
   "outputs": [
    {
     "data": {
      "text/plain": [
       "#P\"/Users/meister/Development/fep/examples/lysozyme/\""
      ]
     },
     "execution_count": 15,
     "metadata": {},
     "output_type": "execute_result"
    }
   ],
   "source": [
    "*default-pathname-defaults*"
   ]
  },
  {
   "cell_type": "code",
   "execution_count": 16,
   "metadata": {},
   "outputs": [
    {
     "data": {
      "image/png": "[encoded data removed]",
      "text/plain": [
       "#<CL-JUPYTER-USER::PNG-BYTES>"
      ]
     },
     "execution_count": 16,
     "metadata": {},
     "output_type": "execute_result"
    }
   ],
   "source": [
    "(png-from-file \"ligands.png\" )"
   ]
  },
  {
   "cell_type": "code",
   "execution_count": 17,
   "metadata": {},
   "outputs": [
    {
     "name": "stdout",
     "output_type": "stream",
     "text": [
      "ChemDraw_O::parse starting\n",
      "ChemDraw_O::parse child of page with name(fragment)\n",
      "CDFragment - starting\n",
      "CDNode id(2) color(3) label(C1)\n",
      "CDNode id(4) color(3) label(C_4)\n",
      "CDNode id(6) color(3) label(C3)\n",
      "CDNode id(8) color(3) label(C_8)\n",
      "CDNode id(10) color(3) label(C5)\n",
      "CDNode id(12) color(3) label(C_12)\n",
      "CDNode id(20) color(3) label(ZA?)\n",
      "CDNode id(64) color(3) label(:topoogy :CRA)\n",
      "CDBond _IdBegin(2) _IdEnd(4) order(2) display()\n",
      "CDBond _IdBegin(4) _IdEnd(6) order(1) display()\n",
      "CDBond _IdBegin(6) _IdEnd(8) order(2) display()\n",
      "CDBond _IdBegin(8) _IdEnd(10) order(1) display()\n",
      "CDBond _IdBegin(10) _IdEnd(12) order(2) display()\n",
      "CDBond _IdBegin(12) _IdEnd(2) order(1) display()\n",
      "CDBond _IdBegin(12) _IdEnd(20) order(1) display()\n",
      "CDBond _IdBegin(64) _IdEnd(4) order(1) display(Wavy)\n",
      "CDFragment - done.\n",
      "Adding molecule property :TOPOOGY value: :CRA\n",
      "ChemDraw_O::parse child of page with name(fragment)\n",
      "CDFragment - starting\n",
      "CDNode id(22) color(3) label(H)\n",
      "CDNode id(24) color(3) label(ZAA)\n",
      "CDBond _IdBegin(22) _IdEnd(24) order(1) display()\n",
      "CDFragment - done.\n",
      "ChemDraw_O::parse child of page with name(fragment)\n",
      "CDFragment - starting\n",
      "CDNode id(27) color(3) label(OH)\n",
      "CDNode id(28) color(3) label(ZAB)\n",
      "CDBond _IdBegin(27) _IdEnd(28) order(1) display()\n",
      "CDFragment - done.\n",
      "ChemDraw_O::parse done.\n"
     ]
    },
    {
     "data": {
      "text/plain": [
       "*SK*"
      ]
     },
     "execution_count": 17,
     "metadata": {},
     "output_type": "execute_result"
    }
   ],
   "source": [
    "(:= *sk* (handler-bind ((warning #'muffle-warning))\n",
    "             (with-open-file (fin (open \"ligands.cdxml\" :direction :input))\n",
    "             (chem:make-chem-draw fin :add-hydrogens nil))))"
   ]
  },
  {
   "cell_type": "code",
   "execution_count": 18,
   "metadata": {},
   "outputs": [
    {
     "name": "stdout",
     "output_type": "stream",
     "text": [
      "Average bond length: 33.17303808104702d0\n",
      "In build-topologys core-group: (#<ATOM :ZA?/:NE> #<ATOM :C_12/:C> #<ATOM :C5/:C> #<ATOM :C1/:C>\n",
      " #<ATOM :C_8/:C> #<ATOM :C_4/:C> #<ATOM :C3/:C>)\n",
      "side-chain-groups: #<HASH-TABLE-EQL :count 2 :total-alist-entries 2 @0x131a5b468> \n",
      "map-names-numbers: #<HASH-TABLE-EQL :count 0 :total-alist-entries 0 @0x131a5b558> \n"
     ]
    },
    {
     "data": {
      "text/plain": [
       "(#<FEP-STRUCTURE AA> #<FEP-STRUCTURE AB>)"
      ]
     },
     "execution_count": 18,
     "metadata": {},
     "output_type": "execute_result"
    }
   ],
   "source": [
    "(fep:setup-ligands *feps* *sk*)"
   ]
  },
  {
   "cell_type": "code",
   "execution_count": 19,
   "metadata": {
    "scrolled": true
   },
   "outputs": [
    {
     "data": {
      "application/vnd.jupyter.widget-view+json": {
       "model_id": "5229E944-AF05-4B5F-AB67-4BA1471D506B",
       "version_major": 2,
       "version_minor": 0
      },
      "text/plain": [
       "#<NGLV:NGLWIDGET>"
      ]
     },
     "execution_count": 19,
     "metadata": {},
     "output_type": "execute_result"
    }
   ],
   "source": [
    "(:= *v* (show (fep:layout-ligands *feps*))) *v*"
   ]
  },
  {
   "cell_type": "markdown",
   "metadata": {},
   "source": [
    "# Load the lysozyme PDB file"
   ]
  },
  {
   "cell_type": "code",
   "execution_count": 20,
   "metadata": {
    "scrolled": true
   },
   "outputs": [
    {
     "name": "stdout",
     "output_type": "stream",
     "text": [
      "\n",
      "\n"
     ]
    },
    {
     "name": "stderr",
     "output_type": "stream",
     "text": [
      "\n",
      "There are 1 unbuilt heavy atoms - not building hydrogens\n"
     ]
    },
    {
     "data": {
      "text/plain": [
       "*LYSOZYME*"
      ]
     },
     "execution_count": 20,
     "metadata": {},
     "output_type": "execute_result"
    }
   ],
   "source": [
    "(:= *lysozyme* (load-pdb \"181L_mod.pdb\"))"
   ]
  },
  {
   "cell_type": "code",
   "execution_count": 21,
   "metadata": {},
   "outputs": [
    {
     "data": {
      "application/vnd.jupyter.widget-view+json": {
       "model_id": "2146167D-E54D-45CA-9EF9-5ECDB84AAEF4",
       "version_major": 2,
       "version_minor": 0
      },
      "text/plain": [
       "#<NGLV:NGLWIDGET>"
      ]
     },
     "execution_count": 21,
     "metadata": {},
     "output_type": "execute_result"
    }
   ],
   "source": [
    "(show *lysozyme*)"
   ]
  },
  {
   "cell_type": "code",
   "execution_count": 22,
   "metadata": {},
   "outputs": [
    {
     "data": {
      "text/plain": [
       "#<AGGREGATE :181L_mod>"
      ]
     },
     "execution_count": 22,
     "metadata": {},
     "output_type": "execute_result"
    }
   ],
   "source": [
    "*lysozyme*"
   ]
  },
  {
   "cell_type": "code",
   "execution_count": 23,
   "metadata": {},
   "outputs": [
    {
     "data": {
      "text/plain": [
       "(#<AGGREGATE :181L_mod>)"
      ]
     },
     "execution_count": 23,
     "metadata": {},
     "output_type": "execute_result"
    }
   ],
   "source": [
    "(pushnew *lysozyme* (fep:receptors *feps*))"
   ]
  },
  {
   "cell_type": "markdown",
   "metadata": {},
   "source": [
    "# Load the ligands"
   ]
  },
  {
   "cell_type": "code",
   "execution_count": 24,
   "metadata": {},
   "outputs": [
    {
     "data": {
      "text/plain": [
       "(:BNZ)"
      ]
     },
     "execution_count": 24,
     "metadata": {},
     "output_type": "execute_result"
    }
   ],
   "source": [
    "(load-off (merge-pathnames \"phen.lib\"))\n",
    "(load-off (merge-pathnames \"benz.lib\"))"
   ]
  },
  {
   "cell_type": "code",
   "execution_count": 25,
   "metadata": {},
   "outputs": [
    {
     "name": "stdout",
     "output_type": "stream",
     "text": [
      "\n",
      "Starting a new molecule\n",
      "popped first residue: #<PDB-RESIDUE PHN>\n",
      "\n"
     ]
    },
    {
     "name": "stderr",
     "output_type": "stream",
     "text": [
      "\n",
      "There are 1 unbuilt heavy atoms - not building hydrogens\n"
     ]
    },
    {
     "data": {
      "text/plain": [
       "*LIGS*"
      ]
     },
     "execution_count": 25,
     "metadata": {},
     "output_type": "execute_result"
    }
   ],
   "source": [
    "(:= *ligs* (load-pdb \"bnz_phn.pdb\"))"
   ]
  },
  {
   "cell_type": "code",
   "execution_count": 26,
   "metadata": {},
   "outputs": [
    {
     "data": {
      "application/vnd.jupyter.widget-view+json": {
       "model_id": "DB9E4153-7B68-498E-999A-A3427DB1A183",
       "version_major": 2,
       "version_minor": 0
      },
      "text/plain": [
       "#<NGLV:NGLWIDGET>"
      ]
     },
     "execution_count": 26,
     "metadata": {},
     "output_type": "execute_result"
    }
   ],
   "source": [
    "(show *ligs*)"
   ]
  },
  {
   "cell_type": "markdown",
   "metadata": {},
   "source": [
    "## Print the fixed atoms of the template ligand"
   ]
  },
  {
   "cell_type": "code",
   "execution_count": 27,
   "metadata": {},
   "outputs": [
    {
     "data": {
      "text/plain": [
       "#<SMARTS-ROOT :id 2981>"
      ]
     },
     "execution_count": 27,
     "metadata": {},
     "output_type": "execute_result"
    }
   ],
   "source": [
    "*pick*"
   ]
  },
  {
   "cell_type": "code",
   "execution_count": 28,
   "metadata": {},
   "outputs": [
    {
     "data": {
      "text/plain": [
       "((6 . #<ATOM :C6/:C>) (3 . #<ATOM :C3/:C>) (5 . #<ATOM :C5/:C>)\n",
       " (1 . #<ATOM :C1/:C>))"
      ]
     },
     "execution_count": 28,
     "metadata": {},
     "output_type": "execute_result"
    }
   ],
   "source": [
    "(alexandria:hash-table-alist (fep:pattern-atoms *pick* *ligs*))"
   ]
  },
  {
   "cell_type": "markdown",
   "metadata": {},
   "source": [
    "# Pick the atoms of the ligand that correspond to the sketch above"
   ]
  },
  {
   "cell_type": "code",
   "execution_count": 29,
   "metadata": {
    "scrolled": false
   },
   "outputs": [
    {
     "data": {
      "application/vnd.jupyter.widget-view+json": {
       "model_id": "8BD355AB-057F-406A-8211-F038929C9245",
       "version_major": 2,
       "version_minor": 0
      },
      "text/plain": [
       "#<NGLV:NGLWIDGET>"
      ]
     },
     "execution_count": 29,
     "metadata": {},
     "output_type": "execute_result"
    }
   ],
   "source": [
    "(:= vreceptor (show *lysozyme*))\n",
    ";;;(nglv::add-representation vthrombin \"surface\" :selection \"protein\")\n",
    "vreceptor"
   ]
  },
  {
   "cell_type": "markdown",
   "metadata": {},
   "source": [
    "These were picked in the same order as the labeled atoms in the sketched core."
   ]
  },
  {
   "cell_type": "markdown",
   "metadata": {},
   "source": [
    "# Use the GAFF force field to build chemically reasonable structures of candidate ligands"
   ]
  },
  {
   "cell_type": "code",
   "execution_count": 30,
   "metadata": {},
   "outputs": [
    {
     "name": "stdout",
     "output_type": "stream",
     "text": [
      "Building AA\n",
      "Hydrogens built 100.0% elapsed: -- ETC: --   \n",
      "build-structures fep: #<FEP-STRUCTURE AA>   map-atoms: NIL\n",
      "Building AB\n",
      "Hydrogens built 100.0% elapsed: -- ETC: --   \n",
      "build-structures fep: #<FEP-STRUCTURE AB>   map-atoms: NIL\n"
     ]
    },
    {
     "data": {
      "text/plain": [
       "NIL"
      ]
     },
     "execution_count": 30,
     "metadata": {},
     "output_type": "execute_result"
    }
   ],
   "source": [
    "(fep:build-ligands *feps*)"
   ]
  },
  {
   "cell_type": "code",
   "execution_count": 31,
   "metadata": {},
   "outputs": [
    {
     "data": {
      "text/plain": [
       "(#<MOLECULE :AA> #<MOLECULE :AB>)"
      ]
     },
     "execution_count": 31,
     "metadata": {},
     "output_type": "execute_result"
    }
   ],
   "source": [
    "(mapcar #'fep:molecule (fep:ligands *feps*))"
   ]
  },
  {
   "cell_type": "code",
   "execution_count": 32,
   "metadata": {
    "scrolled": true
   },
   "outputs": [
    {
     "data": {
      "application/vnd.jupyter.widget-view+json": {
       "model_id": "AD10ED4D-180A-47CE-BD59-50DE9CA9E5DC",
       "version_major": 2,
       "version_minor": 0
      },
      "text/plain": [
       "#<NGLV:NGLWIDGET>"
      ]
     },
     "execution_count": 32,
     "metadata": {},
     "output_type": "execute_result"
    }
   ],
   "source": [
    "(show (fep:layout-ligands *feps* :accessor 'fep::molecule))"
   ]
  },
  {
   "cell_type": "markdown",
   "metadata": {},
   "source": [
    "# Pose the new ligands onto the template ligand"
   ]
  },
  {
   "cell_type": "code",
   "execution_count": 33,
   "metadata": {
    "collapsed": true
   },
   "outputs": [
    {
     "name": "stdout",
     "output_type": "stream",
     "text": [
      "fep #<FEP-STRUCTURE AA>\n",
      " moveable-atoms -> #<FEP-STRUCTURE AA>\n",
      "    fixed-atoms -> (#<ATOM :C6/:C> #<ATOM :C3/:C> #<ATOM :C5/:C> #<ATOM :C1/:C>)\n",
      "Anchored #<ATOM :C_12/:C> to '( 26.498 6.379 5.469) restraints: #(#<RESTRAINT-ANCHOR >)\n",
      "Anchored #<ATOM :C3/:C> to '( 27.34 5.86 2.902) restraints: #(#<RESTRAINT-ANCHOR >)\n",
      "Anchored #<ATOM :C5/:C> to '( 27.42 7.196 4.856) restraints: #(#<RESTRAINT-ANCHOR >)\n",
      "Anchored #<ATOM :C1/:C> to '( 25.978 5.327 4.779) restraints: #(#<RESTRAINT-ANCHOR >)\n",
      "fep #<FEP-STRUCTURE AB>\n",
      " moveable-atoms -> #<FEP-STRUCTURE AB>\n",
      "    fixed-atoms -> (#<ATOM :C6/:C> #<ATOM :C3/:C> #<ATOM :C5/:C> #<ATOM :C1/:C>)\n",
      "Anchored #<ATOM :C_12/:C> to '( 26.498 6.379 5.469) restraints: #(#<RESTRAINT-ANCHOR >)\n",
      "Anchored #<ATOM :C3/:C> to '( 27.34 5.86 2.902) restraints: #(#<RESTRAINT-ANCHOR >)\n",
      "Anchored #<ATOM :C5/:C> to '( 27.42 7.196 4.856) restraints: #(#<RESTRAINT-ANCHOR >)\n",
      "Anchored #<ATOM :C1/:C> to '( 25.978 5.327 4.779) restraints: #(#<RESTRAINT-ANCHOR >)\n",
      "minimize-no-fail\n",
      "======= Starting Steepest Descent Minimizer\n",
      "DONE absolute force test:\n",
      "forceRmsMag(3860.560977).LT.forceTolerance(5000.000000)\n",
      "======= Starting Conjugate Gradient Minimizer\n",
      " minCGnP       0    10     -5.46  81.6             89.221             52.176\n",
      " minCGnP       0    20     -7.02  49.2             13.483              0.616\n",
      "DONE absolute force test:\n",
      "forceRmsMag(0.370786).LT.forceTolerance(0.500000)\n",
      " minCGnP       0    30     -7.13  67.7             13.287              0.371\n",
      "minimize-no-fail\n",
      "======= Starting Steepest Descent Minimizer\n",
      "DONE absolute force test:\n",
      "forceRmsMag(3789.421169).LT.forceTolerance(5000.000000)\n",
      "======= Starting Conjugate Gradient Minimizer\n",
      " minCGnP       0    10     -7.09  51.4            898.809            168.947\n",
      " minCGnP       0    20     -6.60  59.4            136.568             30.578\n",
      " minCGnP       0    30     -6.86  57.1             27.239             13.684\n",
      " minCGnP       0    40     -6.94   0.0             17.861              3.531\n",
      " minCGnP       0    50     -7.04  72.8             15.173              3.992\n",
      " minCGnP       0    60     -7.49  54.2             13.877              0.743\n",
      " minCGnP       0    70     -7.22  69.8             13.644              0.736\n",
      "DONE absolute force test:\n",
      "forceRmsMag(0.405164).LT.forceTolerance(0.500000)\n"
     ]
    },
    {
     "data": {
      "text/plain": [
       "NIL"
      ]
     },
     "execution_count": 33,
     "metadata": {},
     "output_type": "execute_result"
    }
   ],
   "source": [
    "(fep::pose-ligands-using-pattern *feps* *pick* *ligs*)"
   ]
  },
  {
   "cell_type": "code",
   "execution_count": 34,
   "metadata": {},
   "outputs": [
    {
     "data": {
      "application/vnd.jupyter.widget-view+json": {
       "model_id": "8BD355AB-057F-406A-8211-F038929C9245",
       "version_major": 2,
       "version_minor": 0
      },
      "text/plain": [
       "#<NGLV:NGLWIDGET>"
      ]
     },
     "execution_count": 34,
     "metadata": {},
     "output_type": "execute_result"
    }
   ],
   "source": [
    "(progn vreceptor)"
   ]
  },
  {
   "cell_type": "code",
   "execution_count": 35,
   "metadata": {},
   "outputs": [
    {
     "data": {
      "text/plain": [
       "#<CANDO-JUPYTER:CANDO-STRUCTURE>"
      ]
     },
     "execution_count": 35,
     "metadata": {},
     "output_type": "execute_result"
    }
   ],
   "source": [
    "(:= *moveable-agg* (chem:make-aggregate))\n",
    "(chem:add-matter *moveable-agg* (fep::molecule (first (fep:ligands *feps*))))\n",
    "(:= *struct* (make-instance 'cando-structure :matter *moveable-agg*))\n",
    "(nglv::add-structure vreceptor *struct*)"
   ]
  },
  {
   "cell_type": "code",
   "execution_count": 36,
   "metadata": {},
   "outputs": [
    {
     "data": {
      "text/plain": [
       "#<MOLECULE :AA>"
      ]
     },
     "execution_count": 36,
     "metadata": {},
     "output_type": "execute_result"
    }
   ],
   "source": [
    "(fep:molecule (first (fep:ligands *feps*)))"
   ]
  },
  {
   "cell_type": "markdown",
   "metadata": {},
   "source": [
    "# Define the pairs of compounds between which we want to carry out free energy perturbation calculations"
   ]
  },
  {
   "cell_type": "code",
   "execution_count": 37,
   "metadata": {},
   "outputs": [
    {
     "data": {
      "text/plain": [
       "#<JOB-GRAPH>"
      ]
     },
     "execution_count": 37,
     "metadata": {},
     "output_type": "execute_result"
    }
   ],
   "source": [
    "(fep::build-initial-jobs *feps* 2)"
   ]
  },
  {
   "cell_type": "code",
   "execution_count": 38,
   "metadata": {},
   "outputs": [
    {
     "data": {
      "text/plain": [
       "#<JOB-GRAPH>"
      ]
     },
     "execution_count": 38,
     "metadata": {},
     "output_type": "execute_result"
    }
   ],
   "source": [
    "(fep:jobs *feps*)"
   ]
  },
  {
   "cell_type": "code",
   "execution_count": 39,
   "metadata": {
    "scrolled": false
   },
   "outputs": [
    {
     "data": {
      "text/plain": [
       "#<fep-calculation>"
      ]
     },
     "execution_count": 39,
     "metadata": {},
     "output_type": "execute_result"
    }
   ],
   "source": [
    "(graph::save-graph *feps*)"
   ]
  },
  {
   "cell_type": "markdown",
   "metadata": {},
   "source": [
    "# Generate the calculations"
   ]
  },
  {
   "cell_type": "code",
   "execution_count": 85,
   "metadata": {},
   "outputs": [
    {
     "name": "stdout",
     "output_type": "stream",
     "text": [
      "Creating am1 scripts in /Users/meister/Development/fep/examples/lysozyme/jobs/\n",
      "About to set outputs result -> (#<FEP::LIGAND-SQM-JOB> #<FEP::LIGAND-SQM-JOB>)\n",
      "jobs -> #<JOB-GRAPH>\n"
     ]
    },
    {
     "name": "stderr",
     "output_type": "stream",
     "text": [
      "\n",
      "in default-script-1-leap\n",
      "\n",
      "An error occurred of type: UNBOUND-VARIABLE: \n",
      "  The variable FEP::DECHARGE-PDB is unbound.\n",
      "\n",
      "serious-condition backtrace:\n",
      "0: (ERROR UNBOUND-VARIABLE :NAME FEP::DECHARGE-PDB)\n",
      "1: (LAMBDA)\n",
      "2: (CALL-WITH-VARIABLE-BOUND *DEFAULT-PATHNAME-DEFAULTS* #P\"/Users/meister/Development/fep/examples/lysozyme/jobs/\" #<FUNCTION LAMBDA>)\n",
      "3: (MAKE-SCRIPT-1-LEAP #<fep-calculation> :INPUT-FEPS-FILE #<FEP::FEPS-POSTCHARGE-FILE>)\n",
      "4: (LAMBDA)\n",
      "5: (CALL-WITH-VARIABLE-BOUND *DEFAULT-PATHNAME-DEFAULTS* #P\"/Users/meister/Development/fep/examples/lysozyme/jobs/\" #<FUNCTION LAMBDA>)\n",
      "6: ((METHOD GENERATE-JOBS ((T))) #<fep-calculation>)\n",
      "7: (APPLY #<FUNCTION (METHOD FEP::GENERATE-JOBS (T))> (#<fep-calculation>))\n",
      "8: (PERFORM-OUTCOME #(COMPILER:OUTCOME COMPILER:FAST-METHOD-CALL #<FUNCTION (METHOD FEP::GENERATE-JOBS (T))>) (#<fep-calculation>) #<VA-LIST: (#<fep-calculation>)>)\n",
      "9: (DO-DISPATCH-MISS #<STANDARD-GENERIC-FUNCTION FEP::GENERATE-JOBS> #<VA-LIST: (#<fep-calculation>)> (#<fep-calculation>))\n",
      "10: (LAMBDA)\n",
      "11: (FUNWIND-PROTECT #<FUNCTION LAMBDA> #<FUNCTION LAMBDA>)\n",
      "12: (DISPATCH-MISS #<STANDARD-GENERIC-FUNCTION FEP::GENERATE-JOBS> #<VA-LIST: (#<fep-calculation>)>)\n",
      "13: (INVALIDATED-DISPATCH-FUNCTION #<STANDARD-GENERIC-FUNCTION FEP::GENERATE-JOBS> #<VA-LIST: (#<fep-calculation>)>)\n",
      "14: (LAMBDA)\n",
      "\n"
     ]
    },
    {
     "data": {
      "text/plain": [
       "NIL"
      ]
     },
     "execution_count": 85,
     "metadata": {},
     "output_type": "execute_result"
    }
   ],
   "source": [
    "(:= *work-list* (fep::generate-jobs *feps*))"
   ]
  },
  {
   "cell_type": "code",
   "execution_count": null,
   "metadata": {},
   "outputs": [],
   "source": [
    "(fep::generate-all-code *feps* *work-list*)"
   ]
  },
  {
   "cell_type": "markdown",
   "metadata": {},
   "source": [
    "# Calculate AM1-BCC partial charges"
   ]
  },
  {
   "cell_type": "code",
   "execution_count": 41,
   "metadata": {
    "scrolled": false
   },
   "outputs": [
    {
     "name": "stdout",
     "output_type": "stream",
     "text": [
      "Creating am1 scripts in /Users/meister/Development/fep/examples/lysozyme/jobs/\n"
     ]
    },
    {
     "data": {
      "text/plain": [
       "(#<FEP::LIGAND-SQM-JOB> #<FEP::LIGAND-SQM-JOB>)"
      ]
     },
     "execution_count": 41,
     "metadata": {},
     "output_type": "execute_result"
    }
   ],
   "source": [
    "(fep:setup-am1-calculations *feps* :maxcyc 12)"
   ]
  },
  {
   "cell_type": "code",
   "execution_count": null,
   "metadata": {},
   "outputs": [],
   "source": [
    "(defun do-ls () \n",
    "    (multiple-value-bind (ret pid stream) \n",
    "        (ext:vfork-execvp (list \"/usr/bin/make\" \"-C\" \"/Users/meister/Development/fep/examples/lysozyme/ligands/\" \"-f\" \"makefile.charges\" \"all\" ) t)\n",
    "        (sleep 1)\n",
    "        (let ((data (make-string (file-length stream))))\n",
    "             (read-sequence data stream)\n",
    "             data)))"
   ]
  },
  {
   "cell_type": "code",
   "execution_count": null,
   "metadata": {},
   "outputs": [],
   "source": [
    "(do-ls)"
   ]
  },
  {
   "cell_type": "code",
   "execution_count": null,
   "metadata": {},
   "outputs": [],
   "source": [
    "(mp:process-run-function 'make (lambda () (do-ls)))"
   ]
  },
  {
   "cell_type": "code",
   "execution_count": null,
   "metadata": {
    "scrolled": false
   },
   "outputs": [],
   "source": [
    "(fep:check-am1-calculations *feps*)"
   ]
  },
  {
   "cell_type": "code",
   "execution_count": null,
   "metadata": {
    "scrolled": true
   },
   "outputs": [],
   "source": [
    "(fep:read-am1-charges *feps*)"
   ]
  },
  {
   "cell_type": "code",
   "execution_count": null,
   "metadata": {},
   "outputs": [],
   "source": [
    "(fep:calculate-am1-bcc-charges *feps*)"
   ]
  },
  {
   "cell_type": "code",
   "execution_count": null,
   "metadata": {},
   "outputs": [],
   "source": [
    "(show (complex *feps* :ab))"
   ]
  },
  {
   "cell_type": "code",
   "execution_count": null,
   "metadata": {},
   "outputs": [],
   "source": [
    "*work-list*"
   ]
  },
  {
   "cell_type": "code",
   "execution_count": null,
   "metadata": {},
   "outputs": [],
   "source": [
    "*default-pathname-defaults*"
   ]
  },
  {
   "cell_type": "code",
   "execution_count": null,
   "metadata": {},
   "outputs": [],
   "source": [
    "(with-open-file (sout \"/tmp/graph.dot\" :direction :output) (fepdot::draw-graph-stream *work-list* sout))"
   ]
  },
  {
   "cell_type": "code",
   "execution_count": null,
   "metadata": {},
   "outputs": [],
   "source": []
  },
  {
   "cell_type": "code",
   "execution_count": null,
   "metadata": {},
   "outputs": [],
   "source": []
  },
  {
   "cell_type": "code",
   "execution_count": null,
   "metadata": {},
   "outputs": [],
   "source": []
  }
 ],
 "metadata": {
  "kernelspec": {
   "display_name": "cando-slow-start",
   "language": "lisp",
   "name": "cando-slow-start"
  },
  "language_info": {
   "codemirror_mode": "text/x-common-lisp",
   "file_extension": ".lisp",
   "mimetype": "text/x-common-lisp",
   "name": "common-lisp",
   "pygments_lexer": "common-lisp",
   "version": "X3J13"
  }
 },
 "nbformat": 4,
 "nbformat_minor": 2
}
