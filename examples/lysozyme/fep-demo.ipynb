{
 "cells": [
  {
   "cell_type": "code",
   "execution_count": 1,
   "metadata": {},
   "outputs": [
    {
     "data": {
      "text/plain": [
       "T"
      ]
     },
     "execution_count": 1,
     "metadata": {},
     "output_type": "execute_result"
    }
   ],
   "source": [
    "(start-swank)"
   ]
  },
  {
   "cell_type": "markdown",
   "metadata": {},
   "source": [
    "# A Cando-app to setup free energy perturbation calculations using AMBER"
   ]
  },
  {
   "cell_type": "markdown",
   "metadata": {},
   "source": [
    "First we do the following:\n",
    "\n",
    "  * Load the FEP package.\n",
    "  * Set things up to carry out geometry optimization using Amber."
   ]
  },
  {
   "cell_type": "code",
   "execution_count": 2,
   "metadata": {},
   "outputs": [
    {
     "data": {
      "text/plain": [
       "#P\"/Users/meister/quicklisp/local-projects/fep/examples/lysozyme/\""
      ]
     },
     "execution_count": 2,
     "metadata": {},
     "output_type": "execute_result"
    }
   ],
   "source": [
    "(setf *default-pathname-defaults* #P\"~/quicklisp/local-projects/fep/examples/lysozyme/\")"
   ]
  },
  {
   "cell_type": "code",
   "execution_count": 3,
   "metadata": {
    "scrolled": true
   },
   "outputs": [
    {
     "data": {
      "text/plain": [
       "#<DEFINE-OP >"
      ]
     },
     "execution_count": 3,
     "metadata": {},
     "output_type": "execute_result"
    }
   ],
   "source": [
    "(asdf:load-asd (merge-pathnames \"~/quicklisp/local-projects/fep/src/fep.asd\"))"
   ]
  },
  {
   "cell_type": "code",
   "execution_count": 4,
   "metadata": {
    "scrolled": true
   },
   "outputs": [
    {
     "name": "stdout",
     "output_type": "stream",
     "text": [
      "To load \"fep\":\n",
      "  Load 1 ASDF system:\n",
      "    fep\n",
      "\n",
      "; Loading \"fep\"\n",
      ".......   build-fasl seconds real(5.2) run(5.2) llvm(0) link(5.0) (llvm+link)/real(95%)\n",
      "..   build-fasl seconds real(1.1) run(1.1) llvm(0) link(1.1) (llvm+link)/real(96%)\n",
      "......   build-fasl seconds real(5.5) run(5.5) llvm(0) link(5.2) (llvm+link)/real(94%)\n",
      "..   build-fasl seconds real(1.2) run(1.2) llvm(0) link(1.2) (llvm+link)/real(95%)\n",
      "\n"
     ]
    },
    {
     "data": {
      "text/plain": [
       "(:FEP)"
      ]
     },
     "execution_count": 4,
     "metadata": {},
     "output_type": "execute_result"
    }
   ],
   "source": [
    "(ql:quickload :fep)"
   ]
  },
  {
   "cell_type": "code",
   "execution_count": 5,
   "metadata": {},
   "outputs": [
    {
     "data": {
      "text/plain": [
       "(#P\"/Users/meister/Development/amber18/dat/antechamber/\"\n",
       " #P\"/Users/meister/Development/amber18/dat/leap/cmd/\"\n",
       " #P\"/Users/meister/Development/amber18/dat/leap/parm/\"\n",
       " #P\"/Users/meister/Development/amber18/dat/leap/lib/\"\n",
       " #P\"/Users/meister/Development/amber18/dat/leap/prep/\")"
      ]
     },
     "execution_count": 5,
     "metadata": {},
     "output_type": "execute_result"
    }
   ],
   "source": [
    "(setup-amber-paths)"
   ]
  },
  {
   "cell_type": "code",
   "execution_count": 6,
   "metadata": {},
   "outputs": [
    {
     "data": {
      "text/plain": [
       "NIL"
      ]
     },
     "execution_count": 6,
     "metadata": {},
     "output_type": "execute_result"
    }
   ],
   "source": [
    "(clear-force-field)"
   ]
  },
  {
   "cell_type": "code",
   "execution_count": 7,
   "metadata": {},
   "outputs": [
    {
     "data": {
      "text/plain": [
       "(#<FORCE-FIELD ATOMTYPE_GFF.DEF>)"
      ]
     },
     "execution_count": 7,
     "metadata": {},
     "output_type": "execute_result"
    }
   ],
   "source": [
    "(load-atom-type-rules \"ATOMTYPE_GFF.DEF\")"
   ]
  },
  {
   "cell_type": "code",
   "execution_count": 8,
   "metadata": {},
   "outputs": [
    {
     "name": "stderr",
     "output_type": "stream",
     "text": [
      "\n",
      "add-atom-types doesn't do anything\n",
      "\n",
      "Warning!  Skipping 10-12 hbond\n",
      "\n",
      "\n",
      "Warning!  Skipping force field atom equivalences\n",
      "\n"
     ]
    },
    {
     "data": {
      "text/plain": [
       "T"
      ]
     },
     "execution_count": 8,
     "metadata": {},
     "output_type": "execute_result"
    }
   ],
   "source": [
    "(source \"leaprc.ff14SB.redq\")"
   ]
  },
  {
   "cell_type": "code",
   "execution_count": 9,
   "metadata": {},
   "outputs": [
    {
     "name": "stderr",
     "output_type": "stream",
     "text": [
      "\n",
      "add-atom-types doesn't do anything\n",
      "\n",
      "Warning!  Skipping 10-12 hbond\n",
      "\n",
      "\n",
      "Warning!  Skipping force field atom equivalences\n",
      "\n"
     ]
    },
    {
     "data": {
      "text/plain": [
       "T"
      ]
     },
     "execution_count": 9,
     "metadata": {},
     "output_type": "execute_result"
    }
   ],
   "source": [
    "(source \"leaprc.gaff\")"
   ]
  },
  {
   "cell_type": "code",
   "execution_count": 10,
   "metadata": {},
   "outputs": [
    {
     "data": {
      "text/plain": [
       "((:DEFAULT #<FORCE-FIELD gaff.dat> #<FORCE-FIELD frcmod.ff14SB>\n",
       "  #<FORCE-FIELD parm10.dat> #<FORCE-FIELD ATOMTYPE_GFF.DEF>))"
      ]
     },
     "execution_count": 10,
     "metadata": {},
     "output_type": "execute_result"
    }
   ],
   "source": [
    "(list-force-fields)"
   ]
  },
  {
   "cell_type": "markdown",
   "metadata": {},
   "source": [
    "# Start a new FEP calculation"
   ]
  },
  {
   "cell_type": "code",
   "execution_count": 11,
   "metadata": {},
   "outputs": [
    {
     "data": {
      "text/plain": [
       "*FEPS*"
      ]
     },
     "execution_count": 11,
     "metadata": {},
     "output_type": "execute_result"
    }
   ],
   "source": [
    "(:= *feps* (make-instance 'fep::fep-calculation))"
   ]
  },
  {
   "cell_type": "markdown",
   "metadata": {},
   "source": [
    "# Import sketch - use Chemdraw"
   ]
  },
  {
   "cell_type": "code",
   "execution_count": 12,
   "metadata": {},
   "outputs": [
    {
     "data": {
      "text/plain": [
       "#P\"/Users/meister/quicklisp/local-projects/fep/examples/lysozyme/\""
      ]
     },
     "execution_count": 12,
     "metadata": {},
     "output_type": "execute_result"
    }
   ],
   "source": [
    "*default-pathname-defaults*"
   ]
  },
  {
   "cell_type": "code",
   "execution_count": 13,
   "metadata": {},
   "outputs": [
    {
     "data": {
      "image/png": "[encoded data removed]",
      "text/plain": [
       "#<CL-JUPYTER-USER::PNG-BYTES>"
      ]
     },
     "execution_count": 13,
     "metadata": {},
     "output_type": "execute_result"
    }
   ],
   "source": [
    "(png-from-file \"ligands.png\" )"
   ]
  },
  {
   "cell_type": "code",
   "execution_count": 14,
   "metadata": {},
   "outputs": [
    {
     "name": "stdout",
     "output_type": "stream",
     "text": [
      "ChemDraw_O::parse starting\n",
      "ChemDraw_O::parse child of page with name(fragment)\n",
      "CDFragment - starting\n",
      "CDNode id(2) color(3) label(C1)\n",
      "CDNode id(4) color(3) label(C_4)\n",
      "CDNode id(6) color(3) label(C3)\n",
      "CDNode id(8) color(3) label(C_8)\n",
      "CDNode id(10) color(3) label(C5)\n",
      "CDNode id(12) color(3) label(C_12)\n",
      "CDNode id(20) color(3) label(ZA?)\n",
      "CDNode id(64) color(3) label(:topoogy :CRA)\n",
      "CDBond _IdBegin(2) _IdEnd(4) order(2) display()\n",
      "CDBond _IdBegin(4) _IdEnd(6) order(1) display()\n",
      "CDBond _IdBegin(6) _IdEnd(8) order(2) display()\n",
      "CDBond _IdBegin(8) _IdEnd(10) order(1) display()\n",
      "CDBond _IdBegin(10) _IdEnd(12) order(2) display()\n",
      "CDBond _IdBegin(12) _IdEnd(2) order(1) display()\n",
      "CDBond _IdBegin(12) _IdEnd(20) order(1) display()\n",
      "CDBond _IdBegin(64) _IdEnd(4) order(1) display(Wavy)\n",
      "CDFragment - done.\n",
      "Adding molecule property :TOPOOGY value: :CRA\n",
      "ChemDraw_O::parse child of page with name(fragment)\n",
      "CDFragment - starting\n",
      "CDNode id(22) color(3) label(H)\n",
      "CDNode id(24) color(3) label(ZAA)\n",
      "CDBond _IdBegin(22) _IdEnd(24) order(1) display()\n",
      "CDFragment - done.\n",
      "ChemDraw_O::parse child of page with name(fragment)\n",
      "CDFragment - starting\n",
      "CDNode id(27) color(3) label(OH)\n",
      "CDNode id(28) color(3) label(ZAB)\n",
      "CDBond _IdBegin(27) _IdEnd(28) order(1) display()\n",
      "CDFragment - done.\n",
      "ChemDraw_O::parse done.\n"
     ]
    },
    {
     "data": {
      "text/plain": [
       "*SK*"
      ]
     },
     "execution_count": 14,
     "metadata": {},
     "output_type": "execute_result"
    }
   ],
   "source": [
    "(:= *sk* (handler-bind ((warning #'muffle-warning))\n",
    "             (with-open-file (fin (open \"ligands.cdxml\" :direction :input))\n",
    "             (chem:make-chem-draw fin :add-hydrogens nil))))"
   ]
  },
  {
   "cell_type": "code",
   "execution_count": 15,
   "metadata": {},
   "outputs": [
    {
     "name": "stdout",
     "output_type": "stream",
     "text": [
      "Average bond length: 33.17303808104701d0\n",
      "In build-topologys core-group: (#<ATOM :C_8/:C> #<ATOM :C3/:C> #<ATOM :C5/:C> #<ATOM :C_4/:C> #<ATOM :C_12/:C>\n",
      " #<ATOM :C1/:C> #<ATOM :ZA?/:NE>)\n",
      "side-chain-groups: #<HASH-TABLE-EQL :HashTableCount 2 :calculated-entries 2 :size 16 @0x1250a11e8> \n",
      "map-names-numbers: #<HASH-TABLE-EQL :HashTableCount 0 :calculated-entries 0 :size 16 @0x1250a1328> \n",
      "Hydrogens built 100.0% elapsed: -- ETC: --   \n",
      "Hydrogens built 100.0% elapsed: -- ETC: --   \n"
     ]
    },
    {
     "data": {
      "text/plain": [
       "(#<FEP-STRUCTURE AB> #<FEP-STRUCTURE AA>)"
      ]
     },
     "execution_count": 15,
     "metadata": {},
     "output_type": "execute_result"
    }
   ],
   "source": [
    "(fep:setup-ligands *feps* *sk*)"
   ]
  },
  {
   "cell_type": "code",
   "execution_count": 16,
   "metadata": {
    "scrolled": true
   },
   "outputs": [
    {
     "data": {
      "application/vnd.jupyter.widget-view+json": {
       "model_id": "0D19F3A2-3D3A-4330-9249-AEC4BA0495E9",
       "version_major": 2,
       "version_minor": 0
      },
      "text/plain": [
       "#<NGLV:NGLWIDGET>"
      ]
     },
     "execution_count": 16,
     "metadata": {},
     "output_type": "execute_result"
    }
   ],
   "source": [
    "(:= *v* (show (fep:layout-ligands *feps*))) *v*"
   ]
  },
  {
   "cell_type": "code",
   "execution_count": 17,
   "metadata": {},
   "outputs": [
    {
     "data": {
      "text/plain": [
       "*PICK*"
      ]
     },
     "execution_count": 17,
     "metadata": {},
     "output_type": "execute_result"
    }
   ],
   "source": [
    "(:= *tests* (list (cons :c1 (lambda (a) (eq (chem:get-name a) :c1)))\n",
    "                  (cons :c3 (lambda (a) (eq (chem:get-name a) :c3)))\n",
    "                  (cons :c5 (lambda (a) (eq (chem:get-name a) :c5)))))\n",
    "(:= *pick* (chem:compile-smarts \n",
    "             \"[C:6]1~[C<c1>:1]~[C:2]~[C<c3>:3]~[C:4]~[C<c5>:5]~C1\" :tests *tests*))"
   ]
  },
  {
   "cell_type": "markdown",
   "metadata": {},
   "source": [
    "# Load the lysozyme PDB file"
   ]
  },
  {
   "cell_type": "code",
   "execution_count": 18,
   "metadata": {
    "scrolled": true
   },
   "outputs": [
    {
     "name": "stdout",
     "output_type": "stream",
     "text": [
      "\n",
      "\n"
     ]
    },
    {
     "name": "stderr",
     "output_type": "stream",
     "text": [
      "\n",
      "There are 1 unbuilt heavy atoms - not building hydrogens\n"
     ]
    },
    {
     "data": {
      "text/plain": [
       "*LYSOZYME*"
      ]
     },
     "execution_count": 18,
     "metadata": {},
     "output_type": "execute_result"
    }
   ],
   "source": [
    "(:= *lysozyme* (load-pdb \"181L_mod.pdb\"))"
   ]
  },
  {
   "cell_type": "code",
   "execution_count": 19,
   "metadata": {},
   "outputs": [
    {
     "name": "stdout",
     "output_type": "stream",
     "text": [
      "Building from sorted-built: (#<ATOM :C/:C> #<ATOM :CB/:C> #<ATOM :N/:N>)\n",
      "Hydrogens built   0.0% elapsed: -- ETC: --   Building from sorted-built: (#<ATOM :C/:C> #<ATOM :CB/:C> #<ATOM :N/:N>)\n",
      "Hydrogens built   1.0% elapsed: -- ETC: --   Building from sorted-built: (#<ATOM :C/:C> #<ATOM :CB/:C> #<ATOM :N/:N>)\n",
      "Building from sorted-built: (#<ATOM :CA/:C> #<ATOM :CG1/:C> #<ATOM :CG2/:C>)\n",
      "Hydrogens built   2.0% elapsed: -- ETC: --   Building from sorted-built: (#<ATOM :C/:C> #<ATOM :CB/:C> #<ATOM :N/:N>)\n",
      "Building from sorted-built: (#<ATOM :C/:C> #<ATOM :CB/:C> #<ATOM :N/:N>)\n",
      "Hydrogens built   3.0% elapsed: -- ETC: --   Building from sorted-built: (#<ATOM :C/:C> #<ATOM :CB/:C> #<ATOM :N/:N>)\n",
      "Hydrogens built   4.0% elapsed: -- ETC: --   Building from sorted-built: (#<ATOM :C/:C> #<ATOM :CB/:C> #<ATOM :N/:N>)\n",
      "Building from sorted-built: (#<ATOM :CB/:C> #<ATOM :CD1/:C> #<ATOM :CD2/:C>)\n",
      "Building from sorted-built: (#<ATOM :C/:C> #<ATOM :CB/:C> #<ATOM :N/:N>)\n",
      "Hydrogens built   5.0% elapsed: -- ETC: --   Building from sorted-built: (#<ATOM :C/:C> #<ATOM :CB/:C> #<ATOM :N/:N>)\n",
      "Building from sorted-built: (#<ATOM :CA/:C> #<ATOM :CG1/:C> #<ATOM :CG2/:C>)\n",
      "Hydrogens built   6.0% elapsed: -- ETC: --   Building from sorted-built: (#<ATOM :C/:C> #<ATOM :CB/:C> #<ATOM :N/:N>)\n",
      "Hydrogens built   7.0% elapsed: -- ETC: --   Building from sorted-built: (#<ATOM :C/:C> #<ATOM :CB/:C> #<ATOM :N/:N>)\n",
      "Building from sorted-built: (#<ATOM :C/:C> #<ATOM :CB/:C> #<ATOM :N/:N>)\n",
      "Building from sorted-built: (#<ATOM :CB/:C> #<ATOM :CD1/:C> #<ATOM :CD2/:C>)\n",
      "Hydrogens built   8.0% elapsed: -- ETC: --   Building from sorted-built: (#<ATOM :C/:C> #<ATOM :CB/:C> #<ATOM :N/:N>)\n",
      "Hydrogens built   9.0% elapsed: -- ETC: --   Building from sorted-built: (#<ATOM :C/:C> #<ATOM :CB/:C> #<ATOM :N/:N>)\n",
      "Building from sorted-built: (#<ATOM :CB/:C> #<ATOM :CD1/:C> #<ATOM :CD2/:C>)\n",
      "Hydrogens built  10.0% elapsed: -- ETC: --   Building from sorted-built: (#<ATOM :C/:C> #<ATOM :CB/:C> #<ATOM :N/:N>)\n",
      "Hydrogens built  11.0% elapsed: -- ETC: --   Building from sorted-built: (#<ATOM :C/:C> #<ATOM :CB/:C> #<ATOM :N/:N>)\n",
      "Building from sorted-built: (#<ATOM :CA/:C> #<ATOM :CG1/:C> #<ATOM :CG2/:C>)\n",
      "Hydrogens built  12.0% elapsed: -- ETC: --   Building from sorted-built: (#<ATOM :C/:C> #<ATOM :CB/:C> #<ATOM :N/:N>)\n",
      "Building from sorted-built: (#<ATOM :C/:C> #<ATOM :CB/:C> #<ATOM :N/:N>)\n",
      "Hydrogens built  13.0% elapsed: -- ETC: --   Building from sorted-built: (#<ATOM :C/:C> #<ATOM :CB/:C> #<ATOM :N/:N>)\n",
      "Hydrogens built  14.0% elapsed: -- ETC: --   Building from sorted-built: (#<ATOM :C/:C> #<ATOM :CB/:C> #<ATOM :N/:N>)\n",
      "Building from sorted-built: (#<ATOM :CA/:C> #<ATOM :CG2/:C> #<ATOM :OG1/:O>)\n",
      "Building from sorted-built: (#<ATOM :C/:C> #<ATOM :CB/:C> #<ATOM :N/:N>)\n",
      "Hydrogens built  15.0% elapsed: -- ETC: --   Building from sorted-built: (#<ATOM :C/:C> #<ATOM :CB/:C> #<ATOM :N/:N>)\n",
      "Hydrogens built  16.0% elapsed: -- ETC: --   Building from sorted-built: (#<ATOM :C/:C> #<ATOM :CB/:C> #<ATOM :N/:N>)\n",
      "Building from sorted-built: (#<ATOM :C/:C> #<ATOM :CB/:C> #<ATOM :N/:N>)\n",
      "Building from sorted-built: (#<ATOM :CA/:C> #<ATOM :CG2/:C> #<ATOM :OG1/:O>)\n",
      "Hydrogens built  17.0% elapsed: -- ETC: --   Building from sorted-built: (#<ATOM :C/:C> #<ATOM :CB/:C> #<ATOM :N/:N>)\n",
      "Building from sorted-built: (#<ATOM :CA/:C> #<ATOM :CG1/:C> #<ATOM :CG2/:C>)\n",
      "Hydrogens built  18.0% elapsed: -- ETC: --   Building from sorted-built: (#<ATOM :C/:C> #<ATOM :CB/:C> #<ATOM :N/:N>)\n",
      "Building from sorted-built: (#<ATOM :CA/:C> #<ATOM :CG1/:C> #<ATOM :CG2/:C>)\n",
      "Hydrogens built  19.0% elapsed: -- ETC: --   Building from sorted-built: (#<ATOM :C/:C> #<ATOM :CB/:C> #<ATOM :N/:N>)\n",
      "Building from sorted-built: (#<ATOM :C/:C> #<ATOM :CB/:C> #<ATOM :N/:N>)\n",
      "Hydrogens built  20.0% elapsed: -- ETC: --   Building from sorted-built: (#<ATOM :CB/:C> #<ATOM :CD1/:C> #<ATOM :CD2/:C>)\n",
      "Building from sorted-built: (#<ATOM :C/:C> #<ATOM :CB/:C> #<ATOM :N/:N>)\n",
      "Hydrogens built  21.0% elapsed: -- ETC: --   Building from sorted-built: (#<ATOM :CB/:C> #<ATOM :CD1/:C> #<ATOM :CD2/:C>)\n",
      "Building from sorted-built: (#<ATOM :C/:C> #<ATOM :CB/:C> #<ATOM :N/:N>)\n",
      "Building from sorted-built: (#<ATOM :CA/:C> #<ATOM :CG2/:C> #<ATOM :OG1/:O>)\n",
      "Hydrogens built  22.0% elapsed: -- ETC: --   Building from sorted-built: (#<ATOM :C/:C> #<ATOM :CB/:C> #<ATOM :N/:N>)\n",
      "Hydrogens built  23.0% elapsed: -- ETC: --   Building from sorted-built: (#<ATOM :C/:C> #<ATOM :CB/:C> #<ATOM :N/:N>)\n",
      "Building from sorted-built: (#<ATOM :C/:C> #<ATOM :CB/:C> #<ATOM :N/:N>)\n",
      "Hydrogens built  24.0% elapsed: -- ETC: --   Building from sorted-built: (#<ATOM :C/:C> #<ATOM :CB/:C> #<ATOM :N/:N>)\n",
      "Building from sorted-built: (#<ATOM :C/:C> #<ATOM :CB/:C> #<ATOM :N/:N>)\n",
      "Building from sorted-built: (#<ATOM :CB/:C> #<ATOM :CD1/:C> #<ATOM :CD2/:C>)\n",
      "Hydrogens built  25.0% elapsed: -- ETC: --   Building from sorted-built: (#<ATOM :C/:C> #<ATOM :CB/:C> #<ATOM :N/:N>)\n",
      "Building from sorted-built: (#<ATOM :C/:C> #<ATOM :CB/:C> #<ATOM :N/:N>)\n",
      "Hydrogens built  26.0% elapsed: -- ETC: --   Building from sorted-built: (#<ATOM :C/:C> #<ATOM :CB/:C> #<ATOM :N/:N>)\n",
      "Building from sorted-built: (#<ATOM :C/:C> #<ATOM :CB/:C> #<ATOM :N/:N>)\n",
      "Hydrogens built  27.0% elapsed: -- ETC: --   Building from sorted-built: (#<ATOM :C/:C> #<ATOM :CB/:C> #<ATOM :N/:N>)\n",
      "Building from sorted-built: (#<ATOM :C/:C> #<ATOM :CB/:C> #<ATOM :N/:N>)\n",
      "Hydrogens built  28.0% elapsed: -- ETC: --   Building from sorted-built: (#<ATOM :C/:C> #<ATOM :CB/:C> #<ATOM :N/:N>)\n",
      "Building from sorted-built: (#<ATOM :CB/:C> #<ATOM :CD1/:C> #<ATOM :CD2/:C>)\n",
      "Hydrogens built  29.0% elapsed: -- ETC: --   Building from sorted-built: (#<ATOM :C/:C> #<ATOM :CB/:C> #<ATOM :N/:N>)\n",
      "Building from sorted-built: (#<ATOM :C/:C> #<ATOM :CB/:C> #<ATOM :N/:N>)\n",
      "Hydrogens built  30.0% elapsed: -- ETC: --   Building from sorted-built: (#<ATOM :C/:C> #<ATOM :CB/:C> #<ATOM :N/:N>)\n",
      "Building from sorted-built: (#<ATOM :C/:C> #<ATOM :CB/:C> #<ATOM :N/:N>)\n",
      "Building from sorted-built: (#<ATOM :CA/:C> #<ATOM :CG1/:C> #<ATOM :CG2/:C>)\n",
      "Hydrogens built  31.0% elapsed: -- ETC: --   Building from sorted-built: (#<ATOM :C/:C> #<ATOM :CB/:C> #<ATOM :N/:N>)\n",
      "Hydrogens built  32.0% elapsed: -- ETC: --   Building from sorted-built: (#<ATOM :C/:C> #<ATOM :CB/:C> #<ATOM :N/:N>)\n",
      "Hydrogens built  33.0% elapsed: -- ETC: --   Building from sorted-built: (#<ATOM :C/:C> #<ATOM :CB/:C> #<ATOM :N/:N>)\n",
      "Building from sorted-built: (#<ATOM :CA/:C> #<ATOM :CG2/:C> #<ATOM :OG1/:O>)\n",
      "Building from sorted-built: (#<ATOM :C/:C> #<ATOM :CB/:C> #<ATOM :N/:N>)\n",
      "Hydrogens built  34.0% elapsed: -- ETC: --   Building from sorted-built: (#<ATOM :C/:C> #<ATOM :CB/:C> #<ATOM :N/:N>)\n",
      "Building from sorted-built: (#<ATOM :CA/:C> #<ATOM :CG1/:C> #<ATOM :CG2/:C>)\n",
      "Hydrogens built  35.0% elapsed: -- ETC: --   Building from sorted-built: (#<ATOM :C/:C> #<ATOM :CB/:C> #<ATOM :N/:N>)\n",
      "Building from sorted-built: (#<ATOM :CA/:C> #<ATOM :CG1/:C> #<ATOM :CG2/:C>)\n",
      "Hydrogens built  36.0% elapsed: -- ETC: --   Building from sorted-built: (#<ATOM :C/:C> #<ATOM :CB/:C> #<ATOM :N/:N>)\n",
      "Building from sorted-built: (#<ATOM :CA/:C> #<ATOM :CG2/:C> #<ATOM :OG1/:O>)\n",
      "Building from sorted-built: (#<ATOM :C/:C> #<ATOM :CB/:C> #<ATOM :N/:N>)\n",
      "Hydrogens built  37.0% elapsed: -- ETC: --   Building from sorted-built: (#<ATOM :C/:C> #<ATOM :CB/:C> #<ATOM :N/:N>)\n",
      "Building from sorted-built: (#<ATOM :C/:C> #<ATOM :CB/:C> #<ATOM :N/:N>)\n",
      "Hydrogens built  38.0% elapsed: -- ETC: --   Building from sorted-built: (#<ATOM :C/:C> #<ATOM :CB/:C> #<ATOM :N/:N>)\n",
      "Building from sorted-built: (#<ATOM :C/:C> #<ATOM :CB/:C> #<ATOM :N/:N>)\n",
      "Hydrogens built  39.0% elapsed: -- ETC: --   Building from sorted-built: (#<ATOM :C/:C> #<ATOM :CB/:C> #<ATOM :N/:N>)\n",
      "Hydrogens built  40.0% elapsed: -- ETC: --   Building from sorted-built: (#<ATOM :C/:C> #<ATOM :CB/:C> #<ATOM :N/:N>)\n",
      "Building from sorted-built: (#<ATOM :CB/:C> #<ATOM :CD1/:C> #<ATOM :CD2/:C>)\n",
      "Hydrogens built  41.0% elapsed: -- ETC: --   Building from sorted-built: (#<ATOM :C/:C> #<ATOM :CB/:C> #<ATOM :N/:N>)\n",
      "Building from sorted-built: (#<ATOM :C/:C> #<ATOM :CB/:C> #<ATOM :N/:N>)\n",
      "Hydrogens built  42.0% elapsed: -- ETC: --   Building from sorted-built: (#<ATOM :C/:C> #<ATOM :CB/:C> #<ATOM :N/:N>)\n",
      "Building from sorted-built: (#<ATOM :C/:C> #<ATOM :CB/:C> #<ATOM :N/:N>)\n",
      "Hydrogens built  43.0% elapsed: -- ETC: --   Building from sorted-built: (#<ATOM :C/:C> #<ATOM :CB/:C> #<ATOM :N/:N>)\n",
      "Building from sorted-built: (#<ATOM :CA/:C> #<ATOM :CG1/:C> #<ATOM :CG2/:C>)\n",
      "Building from sorted-built: (#<ATOM :C/:C> #<ATOM :CB/:C> #<ATOM :N/:N>)\n",
      "Hydrogens built  44.0% elapsed: -- ETC: --   Building from sorted-built: (#<ATOM :C/:C> #<ATOM :CB/:C> #<ATOM :N/:N>)\n",
      "Building from sorted-built: (#<ATOM :C/:C> #<ATOM :CB/:C> #<ATOM :N/:N>)\n",
      "Building from sorted-built: (#<ATOM :C/:C> #<ATOM :CB/:C> #<ATOM :N/:N>)\n",
      "Building from sorted-built: (#<ATOM :CA/:C> #<ATOM :CG1/:C> #<ATOM :CG2/:C>)\n",
      "Hydrogens built  45.0% elapsed: -- ETC: --   Building from sorted-built: (#<ATOM :C/:C> #<ATOM :CB/:C> #<ATOM :N/:N>)\n",
      "Hydrogens built  46.0% elapsed: -- ETC: --   Building from sorted-built: (#<ATOM :C/:C> #<ATOM :CB/:C> #<ATOM :N/:N>)\n",
      "Building from sorted-built: (#<ATOM :CA/:C> #<ATOM :CG1/:C> #<ATOM :CG2/:C>)\n",
      "Hydrogens built  47.0% elapsed: -- ETC: --   Building from sorted-built: (#<ATOM :C/:C> #<ATOM :CB/:C> #<ATOM :N/:N>)\n",
      "Building from sorted-built: (#<ATOM :CB/:C> #<ATOM :CD1/:C> #<ATOM :CD2/:C>)\n",
      "Hydrogens built  48.0% elapsed: -- ETC: --   Building from sorted-built: (#<ATOM :C/:C> #<ATOM :CB/:C> #<ATOM :N/:N>)\n",
      "Hydrogens built  49.0% elapsed: -- ETC: --   Building from sorted-built: (#<ATOM :C/:C> #<ATOM :CB/:C> #<ATOM :N/:N>)\n",
      "Building from sorted-built: (#<ATOM :C/:C> #<ATOM :CB/:C> #<ATOM :N/:N>)\n",
      "Hydrogens built  50.0% elapsed: -- ETC: --   Building from sorted-built: (#<ATOM :C/:C> #<ATOM :CB/:C> #<ATOM :N/:N>)\n",
      "Hydrogens built  51.0% elapsed: -- ETC: --   Building from sorted-built: (#<ATOM :C/:C> #<ATOM :CB/:C> #<ATOM :N/:N>)\n",
      "Building from sorted-built: (#<ATOM :CB/:C> #<ATOM :CD1/:C> #<ATOM :CD2/:C>)\n",
      "Hydrogens built  52.0% elapsed: -- ETC: --   Building from sorted-built: (#<ATOM :C/:C> #<ATOM :CB/:C> #<ATOM :N/:N>)\n",
      "Hydrogens built  53.0% elapsed: -- ETC: --   Building from sorted-built: (#<ATOM :C/:C> #<ATOM :CB/:C> #<ATOM :N/:N>)\n",
      "Building from sorted-built: (#<ATOM :C/:C> #<ATOM :CB/:C> #<ATOM :N/:N>)\n",
      "Building from sorted-built: (#<ATOM :CA/:C> #<ATOM :CG1/:C> #<ATOM :CG2/:C>)\n",
      "Hydrogens built  54.0% elapsed: -- ETC: --   Building from sorted-built: (#<ATOM :C/:C> #<ATOM :CB/:C> #<ATOM :N/:N>)\n",
      "Building from sorted-built: (#<ATOM :C/:C> #<ATOM :CB/:C> #<ATOM :N/:N>)\n",
      "Hydrogens built  55.0% elapsed: -- ETC: --   Building from sorted-built: (#<ATOM :C/:C> #<ATOM :CB/:C> #<ATOM :N/:N>)\n",
      "Building from sorted-built: (#<ATOM :C/:C> #<ATOM :CB/:C> #<ATOM :N/:N>)\n",
      "Building from sorted-built: (#<ATOM :CB/:C> #<ATOM :CD1/:C> #<ATOM :CD2/:C>)\n",
      "Hydrogens built  56.0% elapsed: -- ETC: --   Building from sorted-built: (#<ATOM :C/:C> #<ATOM :CB/:C> #<ATOM :N/:N>)\n",
      "Building from sorted-built: (#<ATOM :C/:C> #<ATOM :CB/:C> #<ATOM :N/:N>)\n",
      "Hydrogens built  57.0% elapsed: -- ETC: --   Building from sorted-built: (#<ATOM :C/:C> #<ATOM :CB/:C> #<ATOM :N/:N>)\n",
      "Building from sorted-built: (#<ATOM :CA/:C> #<ATOM :CG1/:C> #<ATOM :CG2/:C>)\n",
      "Building from sorted-built: (#<ATOM :C/:C> #<ATOM :CB/:C> #<ATOM :N/:N>)\n",
      "Hydrogens built  58.0% elapsed: -- ETC: --   Building from sorted-built: (#<ATOM :C/:C> #<ATOM :CB/:C> #<ATOM :N/:N>)\n",
      "Hydrogens built  59.0% elapsed: -- ETC: --   Building from sorted-built: (#<ATOM :C/:C> #<ATOM :CB/:C> #<ATOM :N/:N>)\n",
      "Hydrogens built  60.0% elapsed: -- ETC: --   Building from sorted-built: (#<ATOM :C/:C> #<ATOM :CB/:C> #<ATOM :N/:N>)\n",
      "Building from sorted-built: (#<ATOM :C/:C> #<ATOM :CB/:C> #<ATOM :N/:N>)\n",
      "Hydrogens built  61.0% elapsed: -- ETC: --   Building from sorted-built: (#<ATOM :C/:C> #<ATOM :CB/:C> #<ATOM :N/:N>)\n",
      "Building from sorted-built: (#<ATOM :CA/:C> #<ATOM :CG1/:C> #<ATOM :CG2/:C>)\n",
      "Building from sorted-built: (#<ATOM :C/:C> #<ATOM :CB/:C> #<ATOM :N/:N>)\n",
      "Hydrogens built  62.0% elapsed: -- ETC: --   Building from sorted-built: (#<ATOM :C/:C> #<ATOM :CB/:C> #<ATOM :N/:N>)\n",
      "Building from sorted-built: (#<ATOM :C/:C> #<ATOM :CB/:C> #<ATOM :N/:N>)\n",
      "Hydrogens built  63.0% elapsed: -- ETC: --   Building from sorted-built: (#<ATOM :CA/:C> #<ATOM :CG1/:C> #<ATOM :CG2/:C>)\n",
      "Building from sorted-built: (#<ATOM :C/:C> #<ATOM :CB/:C> #<ATOM :N/:N>)\n",
      "Hydrogens built  64.0% elapsed: -- ETC: --   Building from sorted-built: (#<ATOM :C/:C> #<ATOM :CB/:C> #<ATOM :N/:N>)\n",
      "Building from sorted-built: (#<ATOM :C/:C> #<ATOM :CB/:C> #<ATOM :N/:N>)\n",
      "Hydrogens built  65.0% elapsed: -- ETC: --   Building from sorted-built: (#<ATOM :C/:C> #<ATOM :CB/:C> #<ATOM :N/:N>)\n",
      "Hydrogens built  66.0% elapsed: -- ETC: --   Building from sorted-built: (#<ATOM :C/:C> #<ATOM :CB/:C> #<ATOM :N/:N>)\n",
      "Building from sorted-built: (#<ATOM :CA/:C> #<ATOM :CG2/:C> #<ATOM :OG1/:O>)\n",
      "Hydrogens built  67.0% elapsed: -- ETC: --   Building from sorted-built: (#<ATOM :C/:C> #<ATOM :CB/:C> #<ATOM :N/:N>)\n",
      "Building from sorted-built: (#<ATOM :CA/:C> #<ATOM :CG1/:C> #<ATOM :CG2/:C>)\n",
      "Building from sorted-built: (#<ATOM :C/:C> #<ATOM :CB/:C> #<ATOM :N/:N>)\n",
      "Hydrogens built  68.0% elapsed: -- ETC: --   Building from sorted-built: (#<ATOM :C/:C> #<ATOM :CB/:C> #<ATOM :N/:N>)\n",
      "Hydrogens built  69.0% elapsed: -- ETC: --   Building from sorted-built: (#<ATOM :C/:C> #<ATOM :CB/:C> #<ATOM :N/:N>)\n",
      "Building from sorted-built: (#<ATOM :CA/:C> #<ATOM :CG2/:C> #<ATOM :OG1/:O>)\n",
      "Building from sorted-built: (#<ATOM :C/:C> #<ATOM :CB/:C> #<ATOM :N/:N>)\n",
      "Hydrogens built  70.0% elapsed: -- ETC: --   Building from sorted-built: (#<ATOM :C/:C> #<ATOM :CB/:C> #<ATOM :N/:N>)\n",
      "Building from sorted-built: (#<ATOM :C/:C> #<ATOM :CB/:C> #<ATOM :N/:N>)\n",
      "Building from sorted-built: (#<ATOM :CB/:C> #<ATOM :CD1/:C> #<ATOM :CD2/:C>)\n",
      "Hydrogens built  71.0% elapsed: -- ETC: --   Building from sorted-built: (#<ATOM :C/:C> #<ATOM :CB/:C> #<ATOM :N/:N>)\n",
      "Hydrogens built  72.0% elapsed: -- ETC: --   Building from sorted-built: (#<ATOM :C/:C> #<ATOM :CB/:C> #<ATOM :N/:N>)\n",
      "Building from sorted-built: (#<ATOM :C/:C> #<ATOM :CB/:C> #<ATOM :N/:N>)\n",
      "Hydrogens built  73.0% elapsed: -- ETC: --   Building from sorted-built: (#<ATOM :CB/:C> #<ATOM :CD1/:C> #<ATOM :CD2/:C>)\n",
      "Building from sorted-built: (#<ATOM :C/:C> #<ATOM :CB/:C> #<ATOM :N/:N>)\n",
      "Hydrogens built  74.0% elapsed: -- ETC: --   Building from sorted-built: (#<ATOM :C/:C> #<ATOM :CB/:C> #<ATOM :N/:N>)\n",
      "Hydrogens built  75.0% elapsed: -- ETC: --   Building from sorted-built: (#<ATOM :C/:C> #<ATOM :CB/:C> #<ATOM :N/:N>)\n",
      "Hydrogens built  76.0% elapsed: -- ETC: --   Building from sorted-built: (#<ATOM :C/:C> #<ATOM :CB/:C> #<ATOM :N/:N>)\n",
      "Building from sorted-built: (#<ATOM :C/:C> #<ATOM :CB/:C> #<ATOM :N/:N>)\n",
      "Hydrogens built  77.0% elapsed: -- ETC: --   Building from sorted-built: (#<ATOM :C/:C> #<ATOM :CB/:C> #<ATOM :N/:N>)\n",
      "Hydrogens built  78.0% elapsed: -- ETC: --   Building from sorted-built: (#<ATOM :C/:C> #<ATOM :CB/:C> #<ATOM :N/:N>)\n",
      "Building from sorted-built: (#<ATOM :C/:C> #<ATOM :CB/:C> #<ATOM :N/:N>)\n",
      "Building from sorted-built: (#<ATOM :C/:C> #<ATOM :CB/:C> #<ATOM :N/:N>)\n",
      "Hydrogens built  79.0% elapsed: -- ETC: --   Building from sorted-built: (#<ATOM :C/:C> #<ATOM :CB/:C> #<ATOM :N/:N>)\n",
      "Building from sorted-built: (#<ATOM :CA/:C> #<ATOM :CG1/:C> #<ATOM :CG2/:C>)\n",
      "Building from sorted-built: (#<ATOM :C/:C> #<ATOM :CB/:C> #<ATOM :N/:N>)\n",
      "Hydrogens built  80.0% elapsed: -- ETC: --   Building from sorted-built: (#<ATOM :C/:C> #<ATOM :CB/:C> #<ATOM :N/:N>)\n",
      "Building from sorted-built: (#<ATOM :CB/:C> #<ATOM :CD1/:C> #<ATOM :CD2/:C>)\n",
      "Hydrogens built  81.0% elapsed: -- ETC: --   Building from sorted-built: (#<ATOM :C/:C> #<ATOM :CB/:C> #<ATOM :N/:N>)\n",
      "Building from sorted-built: (#<ATOM :C/:C> #<ATOM :CB/:C> #<ATOM :N/:N>)\n",
      "Hydrogens built  82.0% elapsed: -- ETC: --   Building from sorted-built: (#<ATOM :C/:C> #<ATOM :CB/:C> #<ATOM :N/:N>)\n",
      "Hydrogens built  83.0% elapsed: -- ETC: --   Building from sorted-built: (#<ATOM :C/:C> #<ATOM :CB/:C> #<ATOM :N/:N>)\n",
      "Hydrogens built  84.0% elapsed: -- ETC: --   Building from sorted-built: (#<ATOM :C/:C> #<ATOM :CB/:C> #<ATOM :N/:N>)\n",
      "Building from sorted-built: (#<ATOM :C/:C> #<ATOM :CB/:C> #<ATOM :N/:N>)\n",
      "Hydrogens built  85.0% elapsed: -- ETC: --   Building from sorted-built: (#<ATOM :C/:C> #<ATOM :CB/:C> #<ATOM :N/:N>)\n",
      "Building from sorted-built: (#<ATOM :C/:C> #<ATOM :CB/:C> #<ATOM :N/:N>)\n",
      "Hydrogens built  86.0% elapsed: -- ETC: --   Building from sorted-built: (#<ATOM :C/:C> #<ATOM :CB/:C> #<ATOM :N/:N>)\n",
      "Building from sorted-built: (#<ATOM :CA/:C> #<ATOM :CG2/:C> #<ATOM :OG1/:O>)\n",
      "Hydrogens built  87.0% elapsed: -- ETC: --   Building from sorted-built: (#<ATOM :C/:C> #<ATOM :CB/:C> #<ATOM :N/:N>)\n",
      "Building from sorted-built: (#<ATOM :C/:C> #<ATOM :CB/:C> #<ATOM :N/:N>)\n",
      "Hydrogens built  88.0% elapsed: -- ETC: --   Building from sorted-built: (#<ATOM :C/:C> #<ATOM :CB/:C> #<ATOM :N/:N>)\n",
      "Hydrogens built  89.0% elapsed: -- ETC: --   Building from sorted-built: (#<ATOM :C/:C> #<ATOM :CB/:C> #<ATOM :N/:N>)\n",
      "Building from sorted-built: (#<ATOM :C/:C> #<ATOM :CB/:C> #<ATOM :N/:N>)\n",
      "Hydrogens built  90.0% elapsed: -- ETC: --   Building from sorted-built: (#<ATOM :C/:C> #<ATOM :CB/:C> #<ATOM :N/:N>)\n",
      "Hydrogens built  91.0% elapsed: -- ETC: --   Building from sorted-built: (#<ATOM :C/:C> #<ATOM :CB/:C> #<ATOM :N/:N>)\n",
      "Building from sorted-built: (#<ATOM :CA/:C> #<ATOM :CG1/:C> #<ATOM :CG2/:C>)\n",
      "Hydrogens built  92.0% elapsed: -- ETC: --   Building from sorted-built: (#<ATOM :C/:C> #<ATOM :CB/:C> #<ATOM :N/:N>)\n",
      "Building from sorted-built: (#<ATOM :CA/:C> #<ATOM :CG1/:C> #<ATOM :CG2/:C>)\n",
      "Building from sorted-built: (#<ATOM :C/:C> #<ATOM :CB/:C> #<ATOM :N/:N>)\n",
      "Building from sorted-built: (#<ATOM :CA/:C> #<ATOM :CG2/:C> #<ATOM :OG1/:O>)\n",
      "Hydrogens built  93.0% elapsed: -- ETC: --   Building from sorted-built: (#<ATOM :C/:C> #<ATOM :CB/:C> #<ATOM :N/:N>)\n",
      "Building from sorted-built: (#<ATOM :CA/:C> #<ATOM :CG2/:C> #<ATOM :OG1/:O>)\n",
      "Building from sorted-built: (#<ATOM :C/:C> #<ATOM :CB/:C> #<ATOM :N/:N>)\n",
      "Hydrogens built  94.0% elapsed: -- ETC: --   Building from sorted-built: (#<ATOM :C/:C> #<ATOM :CB/:C> #<ATOM :N/:N>)\n",
      "Hydrogens built  95.0% elapsed: -- ETC: --   Building from sorted-built: (#<ATOM :C/:C> #<ATOM :CB/:C> #<ATOM :N/:N>)\n",
      "Building from sorted-built: (#<ATOM :CA/:C> #<ATOM :CG2/:C> #<ATOM :OG1/:O>)\n",
      "Hydrogens built  96.0% elapsed: -- ETC: --   Building from sorted-built: (#<ATOM :C/:C> #<ATOM :CB/:C> #<ATOM :N/:N>)\n",
      "Building from sorted-built: (#<ATOM :CA/:C> #<ATOM :CG2/:C> #<ATOM :OG1/:O>)\n",
      "Building from sorted-built: (#<ATOM :C/:C> #<ATOM :CB/:C> #<ATOM :N/:N>)\n",
      "Hydrogens built  97.0% elapsed: -- ETC: --   Building from sorted-built: (#<ATOM :C/:C> #<ATOM :CB/:C> #<ATOM :N/:N>)\n",
      "Hydrogens built  98.0% elapsed: -- ETC: --   Building from sorted-built: (#<ATOM :C/:C> #<ATOM :CB/:C> #<ATOM :N/:N>)\n",
      "Building from sorted-built: (#<ATOM :C/:C> #<ATOM :CB/:C> #<ATOM :N/:N>)\n",
      "Hydrogens built  99.0% elapsed: -- ETC: --   Building from sorted-built: (#<ATOM :C/:C> #<ATOM :CB/:C> #<ATOM :N/:N>)\n",
      "Hydrogens built 100.0% elapsed: -- ETC: --   \n"
     ]
    },
    {
     "data": {
      "text/plain": [
       "1313"
      ]
     },
     "execution_count": 19,
     "metadata": {},
     "output_type": "execute_result"
    }
   ],
   "source": [
    "(cando:build-unbuilt-hydrogens *lysozyme*)"
   ]
  },
  {
   "cell_type": "code",
   "execution_count": 20,
   "metadata": {},
   "outputs": [
    {
     "data": {
      "text/plain": [
       "NIL"
      ]
     },
     "execution_count": 20,
     "metadata": {},
     "output_type": "execute_result"
    }
   ],
   "source": [
    "(simple-build-unbuilt-atoms *lysozyme*)"
   ]
  },
  {
   "cell_type": "code",
   "execution_count": 21,
   "metadata": {},
   "outputs": [
    {
     "data": {
      "application/vnd.jupyter.widget-view+json": {
       "model_id": "D6C07668-D113-4693-B10F-D11D4CC5198A",
       "version_major": 2,
       "version_minor": 0
      },
      "text/plain": [
       "#<NGLV:NGLWIDGET>"
      ]
     },
     "execution_count": 21,
     "metadata": {},
     "output_type": "execute_result"
    }
   ],
   "source": [
    "(:= *v* (show *lysozyme*)) *v*"
   ]
  },
  {
   "cell_type": "code",
   "execution_count": 22,
   "metadata": {},
   "outputs": [
    {
     "data": {
      "text/plain": [
       "T"
      ]
     },
     "execution_count": 22,
     "metadata": {},
     "output_type": "execute_result"
    }
   ],
   "source": [
    "(nglv::add-representation *v* \"ball+stick\" :selection \"all\")"
   ]
  },
  {
   "cell_type": "code",
   "execution_count": 23,
   "metadata": {},
   "outputs": [
    {
     "data": {
      "text/plain": [
       "NIL"
      ]
     },
     "execution_count": 23,
     "metadata": {},
     "output_type": "execute_result"
    }
   ],
   "source": [
    "(simple-build-unbuilt-atoms *lysozyme*)"
   ]
  },
  {
   "cell_type": "code",
   "execution_count": 24,
   "metadata": {},
   "outputs": [
    {
     "data": {
      "text/plain": [
       "#<AGGREGATE :181L_mod>"
      ]
     },
     "execution_count": 24,
     "metadata": {},
     "output_type": "execute_result"
    }
   ],
   "source": [
    "*lysozyme*"
   ]
  },
  {
   "cell_type": "code",
   "execution_count": 25,
   "metadata": {},
   "outputs": [
    {
     "data": {
      "text/plain": [
       "(#<AGGREGATE :181L_mod>)"
      ]
     },
     "execution_count": 25,
     "metadata": {},
     "output_type": "execute_result"
    }
   ],
   "source": [
    "(pushnew *lysozyme* (fep:receptors *feps*))"
   ]
  },
  {
   "cell_type": "markdown",
   "metadata": {},
   "source": [
    "# Load the ligands"
   ]
  },
  {
   "cell_type": "code",
   "execution_count": 26,
   "metadata": {},
   "outputs": [
    {
     "data": {
      "text/plain": [
       "(:BNZ)"
      ]
     },
     "execution_count": 26,
     "metadata": {},
     "output_type": "execute_result"
    }
   ],
   "source": [
    "(load-off (merge-pathnames \"phen.lib\"))\n",
    "(load-off (merge-pathnames \"benz.lib\"))"
   ]
  },
  {
   "cell_type": "code",
   "execution_count": 27,
   "metadata": {},
   "outputs": [
    {
     "name": "stdout",
     "output_type": "stream",
     "text": [
      "\n",
      "\n"
     ]
    },
    {
     "name": "stderr",
     "output_type": "stream",
     "text": [
      "\n",
      "There are 1 unbuilt heavy atoms - not building hydrogens\n"
     ]
    },
    {
     "data": {
      "text/plain": [
       "*LIGS*"
      ]
     },
     "execution_count": 27,
     "metadata": {},
     "output_type": "execute_result"
    }
   ],
   "source": [
    "(:= *ligs* (load-pdb \"bnz_phn.pdb\"))"
   ]
  },
  {
   "cell_type": "code",
   "execution_count": 28,
   "metadata": {},
   "outputs": [
    {
     "name": "stdout",
     "output_type": "stream",
     "text": [
      "BUILD-UNBUILT-HYDROGENS  Function\n",
      "CANDO::BUILD-UNBUILT-HYDROGENS-ON  Function\n",
      "SIMPLE-BUILD-UNBUILT-ATOMS  Function\n"
     ]
    },
    {
     "data": {
      "text/plain": [
       "NIL"
      ]
     },
     "execution_count": 28,
     "metadata": {},
     "output_type": "execute_result"
    }
   ],
   "source": [
    "(apropos \"build-unbuilt\")"
   ]
  },
  {
   "cell_type": "code",
   "execution_count": 29,
   "metadata": {},
   "outputs": [
    {
     "name": "stdout",
     "output_type": "stream",
     "text": [
      "Hydrogens built 100.0% elapsed: -- ETC: --   \n"
     ]
    },
    {
     "data": {
      "text/plain": [
       "12"
      ]
     },
     "execution_count": 29,
     "metadata": {},
     "output_type": "execute_result"
    }
   ],
   "source": [
    "(simple-build-unbuilt-atoms *ligs*)\n",
    "(build-unbuilt-hydrogens *ligs*)"
   ]
  },
  {
   "cell_type": "code",
   "execution_count": 30,
   "metadata": {},
   "outputs": [
    {
     "data": {
      "application/vnd.jupyter.widget-view+json": {
       "model_id": "F5187EFA-4308-4F10-85B3-91D25F3CB555",
       "version_major": 2,
       "version_minor": 0
      },
      "text/plain": [
       "#<NGLV:NGLWIDGET>"
      ]
     },
     "execution_count": 30,
     "metadata": {},
     "output_type": "execute_result"
    }
   ],
   "source": [
    "(show *ligs*)"
   ]
  },
  {
   "cell_type": "markdown",
   "metadata": {},
   "source": [
    "## Print the fixed atoms of the template ligand"
   ]
  },
  {
   "cell_type": "code",
   "execution_count": 31,
   "metadata": {},
   "outputs": [
    {
     "data": {
      "text/plain": [
       "((2 . #<ATOM :C2/:C>) (6 . #<ATOM :C6/:C>) (3 . #<ATOM :C3/:C>)\n",
       " (5 . #<ATOM :C5/:C>) (4 . #<ATOM :C4/:C>) (1 . #<ATOM :C1/:C>))"
      ]
     },
     "execution_count": 31,
     "metadata": {},
     "output_type": "execute_result"
    }
   ],
   "source": [
    "(alexandria:hash-table-alist (fep:pattern-atoms *pick* *ligs*))"
   ]
  },
  {
   "cell_type": "markdown",
   "metadata": {},
   "source": [
    "# Use the GAFF force field to build chemically reasonable structures of candidate ligands"
   ]
  },
  {
   "cell_type": "code",
   "execution_count": 32,
   "metadata": {},
   "outputs": [
    {
     "name": "stdout",
     "output_type": "stream",
     "text": [
      "Building AB\n",
      "build-structures fep: #<FEP-STRUCTURE AB>   map-atoms: NIL\n",
      "Building AA\n",
      "build-structures fep: #<FEP-STRUCTURE AA>   map-atoms: NIL\n"
     ]
    },
    {
     "data": {
      "text/plain": [
       "NIL"
      ]
     },
     "execution_count": 32,
     "metadata": {},
     "output_type": "execute_result"
    }
   ],
   "source": [
    "(fep:build-ligands *feps*)"
   ]
  },
  {
   "cell_type": "code",
   "execution_count": 33,
   "metadata": {},
   "outputs": [
    {
     "data": {
      "text/plain": [
       "(#<MOLECULE :AB> #<MOLECULE :AA>)"
      ]
     },
     "execution_count": 33,
     "metadata": {},
     "output_type": "execute_result"
    }
   ],
   "source": [
    "(mapcar #'fep:molecule (fep:ligands *feps*))"
   ]
  },
  {
   "cell_type": "code",
   "execution_count": 34,
   "metadata": {
    "scrolled": true
   },
   "outputs": [
    {
     "data": {
      "application/vnd.jupyter.widget-view+json": {
       "model_id": "90306B02-5898-4A74-9C3D-F1B8F6380468",
       "version_major": 2,
       "version_minor": 0
      },
      "text/plain": [
       "#<NGLV:NGLWIDGET>"
      ]
     },
     "execution_count": 34,
     "metadata": {},
     "output_type": "execute_result"
    }
   ],
   "source": [
    "(show (fep:layout-ligands *feps* :accessor 'fep::molecule))"
   ]
  },
  {
   "cell_type": "markdown",
   "metadata": {},
   "source": [
    "# Pose the new ligands onto the template ligand"
   ]
  },
  {
   "cell_type": "code",
   "execution_count": 35,
   "metadata": {
    "collapsed": true
   },
   "outputs": [
    {
     "name": "stdout",
     "output_type": "stream",
     "text": [
      "fep #<FEP-STRUCTURE AB>\n",
      " moveable-atoms -> #<FEP-STRUCTURE AB>\n",
      "    fixed-atoms -> (#<ATOM :C2/:C> #<ATOM :C6/:C> #<ATOM :C3/:C> #<ATOM :C5/:C> #<ATOM :C4/:C>\n",
      " #<ATOM :C1/:C>)\n",
      "Anchored #<ATOM :C_4/:C> to '( 26.395 5.074 3.499) restraints: (#<RESTRAINT-ANCHOR >) props: (:CHEMDRAW-COLOR 3)\n",
      "Anchored #<ATOM :C_12/:C> to '( 26.498 6.379 5.469) restraints: (#<RESTRAINT-ANCHOR >) props: (:ATTACH :ZA :CHEMDRAW-COLOR 3)\n",
      "Anchored #<ATOM :C3/:C> to '( 27.34 5.86 2.902) restraints: (#<RESTRAINT-ANCHOR >) props: (:CHEMDRAW-COLOR 3)\n",
      "Anchored #<ATOM :C5/:C> to '( 27.42 7.196 4.856) restraints: (#<RESTRAINT-ANCHOR >) props: (:CHEMDRAW-COLOR 3)\n",
      "Anchored #<ATOM :C_8/:C> to '( 27.837 6.921 3.569) restraints: (#<RESTRAINT-ANCHOR >) props: (:CHEMDRAW-COLOR 3)\n",
      "Anchored #<ATOM :C1/:C> to '( 25.978 5.327 4.779) restraints: (#<RESTRAINT-ANCHOR >) props: (:CHEMDRAW-COLOR 3)\n",
      "fep #<FEP-STRUCTURE AA>\n",
      " moveable-atoms -> #<FEP-STRUCTURE AA>\n",
      "    fixed-atoms -> (#<ATOM :C2/:C> #<ATOM :C6/:C> #<ATOM :C3/:C> #<ATOM :C5/:C> #<ATOM :C4/:C>\n",
      " #<ATOM :C1/:C>)\n",
      "Anchored #<ATOM :C_4/:C> to '( 26.395 5.074 3.499) restraints: (#<RESTRAINT-ANCHOR >) props: (:CHEMDRAW-COLOR 3)\n",
      "Anchored #<ATOM :C_12/:C> to '( 26.498 6.379 5.469) restraints: (#<RESTRAINT-ANCHOR >) props: (:ATTACH :ZA :CHEMDRAW-COLOR 3)\n",
      "Anchored #<ATOM :C3/:C> to '( 27.34 5.86 2.902) restraints: (#<RESTRAINT-ANCHOR >) props: (:CHEMDRAW-COLOR 3)\n",
      "Anchored #<ATOM :C5/:C> to '( 27.42 7.196 4.856) restraints: (#<RESTRAINT-ANCHOR >) props: (:CHEMDRAW-COLOR 3)\n",
      "Anchored #<ATOM :C_8/:C> to '( 27.837 6.921 3.569) restraints: (#<RESTRAINT-ANCHOR >) props: (:CHEMDRAW-COLOR 3)\n",
      "Anchored #<ATOM :C1/:C> to '( 25.978 5.327 4.779) restraints: (#<RESTRAINT-ANCHOR >) props: (:CHEMDRAW-COLOR 3)\n",
      "minimize-no-fail\n",
      "======= Starting Steepest Descent Minimizer\n",
      "DONE absolute force test:\n",
      "forceRmsMag(128.733042).LT.forceTolerance(5000.000000)\n",
      "======= Starting Conjugate Gradient Minimizer\n",
      " minCGnP       0    10     -7.23  42.5             14.952              2.906\n",
      " minCGnP       0    20     -6.37  72.5             13.848              1.475\n",
      " minCGnP       0    30     -7.33  36.1             13.522              0.070\n",
      " minCGnP       0    40     -6.66   0.0             13.520              0.141\n",
      " minCGnP       0    50     -6.52  60.1             13.519              0.030\n",
      " minCGnP       0    60     -6.76  70.3             13.519              0.027\n",
      " minCGnP       0    70     -6.80  69.5             13.519              0.005\n",
      " minCGnP       0    80     -6.57  60.5             13.519              0.000\n",
      "DONE absolute force test:\n",
      "forceRmsMag(0.000093).LT.forceTolerance(0.000100)\n",
      " minCGnP       0    90     -7.06  53.7             13.519              0.000\n",
      "======= Starting Truncated Newton Minimizer\n",
      " minTNhP       0    90      0.00   0.0             13.519              0.000\n",
      "search complete according to b1aTest last alphaK = 0.000855 energyXkNext = 13.518544 energyXk = 13.518544\n",
      "minimize-no-fail\n",
      "======= Starting Steepest Descent Minimizer\n",
      "DONE absolute force test:\n",
      "forceRmsMag(36.457888).LT.forceTolerance(5000.000000)\n",
      "======= Starting Conjugate Gradient Minimizer\n",
      " minCGnP       0    10     -7.49  41.8             13.291              0.009\n",
      "DONE absolute force test:\n",
      "forceRmsMag(0.000079).LT.forceTolerance(0.000100)\n",
      "======= Starting Truncated Newton Minimizer\n",
      "search complete according to b1aTest last alphaK = 0.000801 energyXkNext = 13.291077 energyXk = 13.291077\n"
     ]
    },
    {
     "data": {
      "text/plain": [
       "NIL"
      ]
     },
     "execution_count": 35,
     "metadata": {},
     "output_type": "execute_result"
    }
   ],
   "source": [
    "(fep::pose-ligands-using-pattern *feps* *pick* *ligs*)"
   ]
  },
  {
   "cell_type": "code",
   "execution_count": 36,
   "metadata": {},
   "outputs": [
    {
     "data": {
      "application/vnd.jupyter.widget-view+json": {
       "model_id": "04A52DEB-A9E0-4D59-BACA-B4A9A93A4718",
       "version_major": 2,
       "version_minor": 0
      },
      "text/plain": [
       "#<NGLV:NGLWIDGET>"
      ]
     },
     "execution_count": 36,
     "metadata": {},
     "output_type": "execute_result"
    }
   ],
   "source": [
    "(:= vreceptor (show *lysozyme*)) vreceptor"
   ]
  },
  {
   "cell_type": "code",
   "execution_count": 37,
   "metadata": {},
   "outputs": [
    {
     "data": {
      "text/plain": [
       "#<CANDO-JUPYTER:CANDO-STRUCTURE>"
      ]
     },
     "execution_count": 37,
     "metadata": {},
     "output_type": "execute_result"
    }
   ],
   "source": [
    "(:= *moveable-agg* (chem:make-aggregate))\n",
    "(chem:add-matter *moveable-agg* (fep::molecule (first (fep:ligands *feps*))))\n",
    "(:= *struct* (make-instance 'cando-structure :matter *moveable-agg*))\n",
    "(nglv::add-structure vreceptor *struct*)"
   ]
  },
  {
   "cell_type": "markdown",
   "metadata": {},
   "source": [
    "# Define the pairs of compounds between which we want to carry out free energy perturbation calculations"
   ]
  },
  {
   "cell_type": "code",
   "execution_count": 38,
   "metadata": {},
   "outputs": [
    {
     "data": {
      "text/plain": [
       "#<JOB-GRAPH>"
      ]
     },
     "execution_count": 38,
     "metadata": {},
     "output_type": "execute_result"
    }
   ],
   "source": [
    "(fep::build-initial-jobs *feps* :connections 2 :stages 3 :windows 3)"
   ]
  },
  {
   "cell_type": "code",
   "execution_count": 39,
   "metadata": {},
   "outputs": [
    {
     "data": {
      "text/plain": [
       "#<JOB-GRAPH>"
      ]
     },
     "execution_count": 39,
     "metadata": {},
     "output_type": "execute_result"
    }
   ],
   "source": [
    "(fep:jobs *feps*)"
   ]
  },
  {
   "cell_type": "code",
   "execution_count": 40,
   "metadata": {
    "scrolled": false
   },
   "outputs": [
    {
     "data": {
      "text/plain": [
       "#<fep-calculation>"
      ]
     },
     "execution_count": 40,
     "metadata": {},
     "output_type": "execute_result"
    }
   ],
   "source": [
    "(graph::save-graph *feps*)"
   ]
  },
  {
   "cell_type": "markdown",
   "metadata": {},
   "source": [
    "# Generate the calculations"
   ]
  },
  {
   "cell_type": "code",
   "execution_count": 41,
   "metadata": {},
   "outputs": [
    {
     "name": "stdout",
     "output_type": "stream",
     "text": [
      "Creating am1 scripts in /Users/meister/quicklisp/local-projects/fep/examples/lysozyme/jobs/\n",
      "About to set outputs result -> (#<FEP::LIGAND-SQM-JOB> #<FEP::LIGAND-SQM-JOB>)\n",
      "Writing receptor 181L_mod to *d-p-d* -> #P\"/Users/meister/quicklisp/local-projects/fep/examples/lysozyme/jobs/\" : #P\"/Users/meister/quicklisp/local-projects/fep/examples/lysozyme/jobs/precharge/181L_mod.mol2\"\n",
      "(node-pathname feps-file) -> #P\"precharge/feps.cando\"\n",
      "Printing job-graph\n",
      "Printing job-graph\n",
      "Writing makefile to /Users/meister/quicklisp/local-projects/fep/examples/lysozyme/jobs/makefile\n"
     ]
    },
    {
     "name": "stderr",
     "output_type": "stream",
     "text": [
      "\n",
      "in default-script-1-leap\n"
     ]
    },
    {
     "data": {
      "text/plain": [
       "*WORK-LIST*"
      ]
     },
     "execution_count": 41,
     "metadata": {},
     "output_type": "execute_result"
    }
   ],
   "source": [
    "(:= *work-list* (fep::generate-jobs *feps*))"
   ]
  },
  {
   "cell_type": "code",
   "execution_count": 42,
   "metadata": {},
   "outputs": [
    {
     "data": {
      "text/plain": [
       "NIL"
      ]
     },
     "execution_count": 42,
     "metadata": {},
     "output_type": "execute_result"
    }
   ],
   "source": [
    "(with-open-file (sout \"/tmp/graph.dot\" :direction :output)\n",
    "    (fepdot::draw-graph-stream (list *work-list*) sout))"
   ]
  },
  {
   "cell_type": "code",
   "execution_count": null,
   "metadata": {},
   "outputs": [],
   "source": []
  },
  {
   "cell_type": "code",
   "execution_count": null,
   "metadata": {},
   "outputs": [],
   "source": []
  }
 ],
 "metadata": {
  "kernelspec": {
   "display_name": "cando-slow-start",
   "language": "lisp",
   "name": "cando-slow-start"
  },
  "language_info": {
   "codemirror_mode": "text/x-common-lisp",
   "file_extension": ".lisp",
   "mimetype": "text/x-common-lisp",
   "name": "common-lisp",
   "pygments_lexer": "common-lisp",
   "version": "X3J13"
  }
 },
 "nbformat": 4,
 "nbformat_minor": 2
}
