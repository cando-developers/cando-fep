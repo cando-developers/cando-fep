{
 "cells": [
  {
   "cell_type": "markdown",
   "metadata": {},
   "source": [
    "# A Cando-app to setup free energy perturbation calculations using AMBER"
   ]
  },
  {
   "cell_type": "code",
   "execution_count": 1,
   "metadata": {},
   "outputs": [
    {
     "name": "stdout",
     "output_type": "stream",
     "text": [
      "\n",
      "\"Hello\" "
     ]
    },
    {
     "data": {
      "text/plain": [
       "\"Hello\""
      ]
     },
     "execution_count": 1,
     "metadata": {},
     "output_type": "execute_result"
    }
   ],
   "source": [
    "(print \"Hello\")"
   ]
  },
  {
   "cell_type": "code",
   "execution_count": 2,
   "metadata": {},
   "outputs": [
    {
     "data": {
      "text/plain": [
       "T"
      ]
     },
     "execution_count": 2,
     "metadata": {},
     "output_type": "execute_result"
    }
   ],
   "source": [
    "(start-swank)"
   ]
  },
  {
   "cell_type": "markdown",
   "metadata": {},
   "source": [
    "First we do the following:\n",
    "\n",
    "  * Load the FEP package.\n",
    "  * Set things up to carry out geometry optimization using Amber."
   ]
  },
  {
   "cell_type": "code",
   "execution_count": 4,
   "metadata": {},
   "outputs": [
    {
     "data": {
      "text/plain": [
       "#P\"/Users/meister/quicklisp/local-projects/fep/examples/lysozyme/\""
      ]
     },
     "execution_count": 4,
     "metadata": {},
     "output_type": "execute_result"
    }
   ],
   "source": [
    "*default-pathname-defaults*"
   ]
  },
  {
   "cell_type": "code",
   "execution_count": 3,
   "metadata": {
    "scrolled": true
   },
   "outputs": [
    {
     "name": "stderr",
     "output_type": "stream",
     "text": [
      "\n",
      "An error occurred of type: SYSTEM-NOT-FOUND: \n",
      "  System \"fep\" not found\n",
      "\n",
      "serious-condition backtrace:\n",
      "0: (CALL-WITH-BACKTRACE #<FUNCTION LAMBDA>)\n",
      "1: (BTCL :STREAM #<STRING-OUTPUT-STREAM >)\n",
      "2: (PRINT-BACKTRACE-TO-STREAM #<STRING-OUTPUT-STREAM >)\n",
      "3: (LAMBDA)\n",
      "4: (CALL-WITH-VARIABLE-BOUND *PRINT-PRETTY* NIL #<FUNCTION LAMBDA>)\n",
      "5: (LAMBDA #<QUICKLISP-CLIENT:SYSTEM-NOT-FOUND>)\n",
      "6: (LAMBDA)\n",
      "7: (CALL-WITH-VARIABLE-BOUND CORE::*HANDLER-CLUSTERS* (((WARNING . #<FUNCTION MUFFLE-WARNING>)) ((WARNING . #<FUNCTION LAMBDA>) (SERIOUS-CONDITION . #<FUNCTION LAMBDA>))) #<FUNCTION LAMBDA>)\n",
      "8: (SIGNAL #<QUICKLISP-CLIENT:SYSTEM-NOT-FOUND>)\n",
      "9: (LAMBDA)\n",
      "10: (CALL-WITH-VARIABLE-BOUND CORE::*RESTART-CLUSTERS* ((#<RESTART.588186089>) (#<RESTART.588187481>)) #<FUNCTION LAMBDA>)\n",
      "11: (UNIVERSAL-ERROR-HANDLER \"Try again\" QUICKLISP-CLIENT:SYSTEM-NOT-FOUND (:NAME \"fep\"))\n",
      "12: (CERROR \"Try again\" QUICKLISP-CLIENT:SYSTEM-NOT-FOUND :NAME \"fep\")\n",
      "13: (LAMBDA \"fep\")\n",
      "14: (LAMBDA)\n",
      "15: (LAMBDA)\n",
      "16: (CALL-WITH-VARIABLE-BOUND QL-DIST:*DIST-ENUMERATION-FUNCTIONS* (#<FUNCTION LAMBDA>) #<FUNCTION LAMBDA>)\n",
      "17: (CALL-WITH-CONSISTENT-DISTS #<FUNCTION LAMBDA>)\n",
      "18: (COMPUTE-LOAD-STRATEGY \"fep\")\n",
      "19: (LAMBDA)\n",
      "20: (CALL-WITH-VARIABLE-BOUND CORE::*RESTART-CLUSTERS* ((#<RESTART.588187481>)) #<FUNCTION LAMBDA>)\n",
      "21: (AUTOLOAD-SYSTEM-AND-DEPENDENCIES :FEP :PROMPT NIL)\n",
      "22: (LAMBDA)\n",
      "23: (LAMBDA)\n",
      "24: (CALL-WITH-VARIABLE-BOUND CORE::*HANDLER-CLUSTERS* (((WARNING . #<FUNCTION MUFFLE-WARNING>)) ((WARNING . #<FUNCTION LAMBDA>) (SERIOUS-CONDITION . #<FUNCTION LAMBDA>))) #<FUNCTION LAMBDA>)\n",
      "25: (LAMBDA)\n",
      "26: (CALL-WITH-VARIABLE-BOUND *COMPILE-PRINT* NIL #<FUNCTION LAMBDA>)\n",
      "27: (LAMBDA)\n",
      "28: (CALL-WITH-VARIABLE-BOUND *LOAD-PRINT* NIL #<FUNCTION LAMBDA>)\n",
      "29: (LAMBDA)\n",
      "30: (CALL-WITH-VARIABLE-BOUND *COMPILE-VERBOSE* NIL #<FUNCTION LAMBDA>)\n",
      "31: (LAMBDA)\n",
      "32: (CALL-WITH-VARIABLE-BOUND *LOAD-VERBOSE* NIL #<FUNCTION LAMBDA>)\n",
      "33: (_%CALL-WITH-QUIET-COMPILATION^QL-IMPL-UTIL^((T #<QL-IMPL:CLASP> #<FUNCTION LAMBDA>)\n",
      "34: (CALL-WITH-QUIET-COMPILATION #<FUNCTION LAMBDA>)\n",
      "35: (LAMBDA)\n",
      "36: (CALL-WITH-VARIABLE-BOUND *TRACE-OUTPUT* #<SYNONYM-STREAM > #<FUNCTION LAMBDA>)\n",
      "37: (LAMBDA)\n",
      "38: (CALL-WITH-VARIABLE-BOUND *STANDARD-OUTPUT* #<CL-JUPYTER::OUTPUT-STREAM> #<FUNCTION LAMBDA>)\n",
      "39: ((METHOD QUICKLOAD ((T))) #<VA-LIST: (:FEP)> NIL)\n",
      "40: (LAMBDA)\n",
      "41: (LAMBDA)\n",
      "42: (LAMBDA)\n",
      "43: (CALL-WITH-VARIABLE-BOUND QL-DIST:*DIST-ENUMERATION-FUNCTIONS* (#<FUNCTION LAMBDA>) #<FUNCTION LAMBDA>)\n",
      "44: (CALL-WITH-CONSISTENT-DISTS #<FUNCTION LAMBDA>)\n",
      "45: (_QUICKLOAD^QUICKLISP-CLIENT^((:AROUND) #<VA-LIST: (:FEP)> (#<FUNCTION (METHOD QUICKLISP-CLIENT:QUICKLOAD (T))>))\n",
      "46: (COMBINE-METHOD-FUNCTIONS.LAMBDA #<VA-LIST: (:FEP)> NIL)\n",
      "47: (LAMBDA)\n",
      "\n"
     ]
    },
    {
     "data": {
      "text/plain": [
       "NIL"
      ]
     },
     "execution_count": 3,
     "metadata": {},
     "output_type": "execute_result"
    }
   ],
   "source": [
    "(ql:quickload :fep)"
   ]
  },
  {
   "cell_type": "code",
   "execution_count": null,
   "metadata": {},
   "outputs": [],
   "source": [
    "(setup-default-paths)"
   ]
  },
  {
   "cell_type": "code",
   "execution_count": null,
   "metadata": {},
   "outputs": [],
   "source": [
    "(load-atom-type-rules \"ATOMTYPE_GFF.DEF\")"
   ]
  },
  {
   "cell_type": "code",
   "execution_count": null,
   "metadata": {},
   "outputs": [],
   "source": [
    "(source \"leaprc.ff14SB.redq\")"
   ]
  },
  {
   "cell_type": "code",
   "execution_count": null,
   "metadata": {},
   "outputs": [],
   "source": [
    "(source \"leaprc.gaff\")"
   ]
  },
  {
   "cell_type": "code",
   "execution_count": null,
   "metadata": {},
   "outputs": [],
   "source": [
    "(list-force-fields)"
   ]
  },
  {
   "cell_type": "markdown",
   "metadata": {},
   "source": [
    "# Start a new FEP calculation"
   ]
  },
  {
   "cell_type": "code",
   "execution_count": null,
   "metadata": {},
   "outputs": [],
   "source": [
    "(:= *feps* (make-instance 'fep::fep-calculation))"
   ]
  },
  {
   "cell_type": "markdown",
   "metadata": {},
   "source": [
    "# Import sketch - use Chemdraw"
   ]
  },
  {
   "cell_type": "markdown",
   "metadata": {},
   "source": [
    "## Open chemdraw and add more functional groups if you want"
   ]
  },
  {
   "cell_type": "code",
   "execution_count": null,
   "metadata": {},
   "outputs": [],
   "source": [
    "(png-from-file \"ligands.png\" )"
   ]
  },
  {
   "cell_type": "code",
   "execution_count": null,
   "metadata": {},
   "outputs": [],
   "source": [
    "(:= *sk* (handler-bind ((warning #'muffle-warning))\n",
    "             (with-open-file (fin (open \"ligands.cdxml\" :direction :input))\n",
    "             (chem:make-chem-draw fin :add-hydrogens nil))))"
   ]
  },
  {
   "cell_type": "code",
   "execution_count": null,
   "metadata": {},
   "outputs": [],
   "source": [
    "(fep:setup-ligands *feps* *sk*)"
   ]
  },
  {
   "cell_type": "code",
   "execution_count": null,
   "metadata": {
    "scrolled": true
   },
   "outputs": [],
   "source": [
    "(:= *v* (show (fep:layout-ligands *feps*))) *v*"
   ]
  },
  {
   "cell_type": "code",
   "execution_count": null,
   "metadata": {},
   "outputs": [],
   "source": [
    "(:= *tests* (list (cons :c1 (lambda (a) (eq (chem:get-name a) :c1)))\n",
    "                  (cons :c3 (lambda (a) (eq (chem:get-name a) :c3)))\n",
    "                  (cons :c5 (lambda (a) (eq (chem:get-name a) :c5)))))\n",
    "(:= *pick* (chem:compile-smarts \n",
    "             \"[C:6]1~[C<c1>:1]~[C:2]~[C<c3>:3]~[C:4]~[C<c5>:5]1\" :tests *tests*))"
   ]
  },
  {
   "cell_type": "code",
   "execution_count": null,
   "metadata": {},
   "outputs": [],
   "source": [
    "(show (fep:molecule (find-if (lambda (x) (eq (fep:name x) :AA)) (fep:ligands *feps*))))"
   ]
  },
  {
   "cell_type": "markdown",
   "metadata": {},
   "source": [
    "# Load the lysozyme PDB file"
   ]
  },
  {
   "cell_type": "code",
   "execution_count": null,
   "metadata": {
    "scrolled": true
   },
   "outputs": [],
   "source": [
    "(:= *lysozyme* (load-pdb \"181L_mod.pdb\"))"
   ]
  },
  {
   "cell_type": "code",
   "execution_count": null,
   "metadata": {},
   "outputs": [],
   "source": [
    "(cando:build-unbuilt-hydrogens *lysozyme*)"
   ]
  },
  {
   "cell_type": "code",
   "execution_count": null,
   "metadata": {},
   "outputs": [],
   "source": [
    "(simple-build-unbuilt-atoms *lysozyme*)"
   ]
  },
  {
   "cell_type": "code",
   "execution_count": null,
   "metadata": {},
   "outputs": [],
   "source": [
    "(:= *v* (show *lysozyme*)) *v*"
   ]
  },
  {
   "cell_type": "code",
   "execution_count": null,
   "metadata": {},
   "outputs": [],
   "source": [
    "(nglv::add-representation *v* \"ball+stick\" :selection \"all\")"
   ]
  },
  {
   "cell_type": "code",
   "execution_count": null,
   "metadata": {},
   "outputs": [],
   "source": [
    "(simple-build-unbuilt-atoms *lysozyme*)"
   ]
  },
  {
   "cell_type": "code",
   "execution_count": null,
   "metadata": {},
   "outputs": [],
   "source": [
    "*lysozyme*"
   ]
  },
  {
   "cell_type": "code",
   "execution_count": null,
   "metadata": {},
   "outputs": [],
   "source": [
    "(pushnew *lysozyme* (fep:receptors *feps*))"
   ]
  },
  {
   "cell_type": "markdown",
   "metadata": {},
   "source": [
    "# Load the ligands"
   ]
  },
  {
   "cell_type": "code",
   "execution_count": null,
   "metadata": {},
   "outputs": [],
   "source": [
    "*default-pathname-defaults*"
   ]
  },
  {
   "cell_type": "code",
   "execution_count": null,
   "metadata": {},
   "outputs": [],
   "source": [
    "(load-off \"phen.lib\")\n",
    "(load-off \"benz.lib\")"
   ]
  },
  {
   "cell_type": "code",
   "execution_count": null,
   "metadata": {},
   "outputs": [],
   "source": [
    "(:= *ligs* (load-pdb \"bnz_phn.pdb\"))"
   ]
  },
  {
   "cell_type": "code",
   "execution_count": null,
   "metadata": {},
   "outputs": [],
   "source": [
    "(simple-build-unbuilt-atoms *ligs*)\n",
    "(build-unbuilt-hydrogens *ligs*)"
   ]
  },
  {
   "cell_type": "code",
   "execution_count": null,
   "metadata": {},
   "outputs": [],
   "source": [
    "(show *ligs*)"
   ]
  },
  {
   "cell_type": "markdown",
   "metadata": {},
   "source": [
    "## Print the fixed atoms of the template ligand"
   ]
  },
  {
   "cell_type": "code",
   "execution_count": null,
   "metadata": {},
   "outputs": [],
   "source": [
    "(alexandria:hash-table-alist (fep:pattern-atoms *pick* *ligs*))"
   ]
  },
  {
   "cell_type": "markdown",
   "metadata": {},
   "source": [
    "# Use the GAFF force field to build chemically reasonable structures of candidate ligands"
   ]
  },
  {
   "cell_type": "code",
   "execution_count": null,
   "metadata": {},
   "outputs": [],
   "source": [
    "(fep:build-ligands *feps*)"
   ]
  },
  {
   "cell_type": "code",
   "execution_count": null,
   "metadata": {},
   "outputs": [],
   "source": [
    "(mapcar #'fep:molecule (fep:ligands *feps*))"
   ]
  },
  {
   "cell_type": "code",
   "execution_count": null,
   "metadata": {
    "scrolled": true
   },
   "outputs": [],
   "source": [
    "(show (fep:layout-ligands *feps* :accessor 'fep::molecule))"
   ]
  },
  {
   "cell_type": "markdown",
   "metadata": {},
   "source": [
    "# Pose the new ligands onto the template ligand"
   ]
  },
  {
   "cell_type": "code",
   "execution_count": null,
   "metadata": {
    "collapsed": true
   },
   "outputs": [],
   "source": [
    "(fep::pose-ligands-using-pattern *feps* *pick* *ligs*)"
   ]
  },
  {
   "cell_type": "code",
   "execution_count": null,
   "metadata": {},
   "outputs": [],
   "source": [
    "(:= vreceptor (show *lysozyme*)) vreceptor"
   ]
  },
  {
   "cell_type": "code",
   "execution_count": null,
   "metadata": {},
   "outputs": [],
   "source": [
    "(:= *moveable-agg* (chem:make-aggregate))\n",
    "(chem:add-matter *moveable-agg* (fep::molecule (second (fep:ligands *feps*))))\n",
    "(:= *struct* (make-instance 'cando-structure :matter *moveable-agg*))\n",
    "(nglv::add-structure vreceptor *struct*)"
   ]
  },
  {
   "cell_type": "markdown",
   "metadata": {},
   "source": [
    "# Define the pairs of compounds between which we want to carry out free energy perturbation calculations"
   ]
  },
  {
   "cell_type": "code",
   "execution_count": null,
   "metadata": {},
   "outputs": [],
   "source": [
    "(fep::build-initial-jobs *feps* :connections 2 :stages 3 :windows 11)"
   ]
  },
  {
   "cell_type": "code",
   "execution_count": null,
   "metadata": {},
   "outputs": [],
   "source": [
    "(fep:jobs *feps*)"
   ]
  },
  {
   "cell_type": "code",
   "execution_count": null,
   "metadata": {
    "scrolled": false
   },
   "outputs": [],
   "source": [
    "(graph::save-graph *feps*)"
   ]
  },
  {
   "cell_type": "markdown",
   "metadata": {},
   "source": [
    "# Generate the calculations"
   ]
  },
  {
   "cell_type": "code",
   "execution_count": null,
   "metadata": {},
   "outputs": [],
   "source": [
    "(start-swank)"
   ]
  },
  {
   "cell_type": "code",
   "execution_count": null,
   "metadata": {},
   "outputs": [],
   "source": [
    "(:= *work-list* (fep::generate-jobs *feps*))"
   ]
  },
  {
   "cell_type": "code",
   "execution_count": null,
   "metadata": {},
   "outputs": [],
   "source": [
    "*work-list*"
   ]
  },
  {
   "cell_type": "code",
   "execution_count": null,
   "metadata": {},
   "outputs": [],
   "source": [
    "(with-open-file (sout \"/tmp/graph.dot\" :direction :output)\n",
    "    (fepdot::draw-graph-stream (list *work-list*) sout))"
   ]
  },
  {
   "cell_type": "code",
   "execution_count": null,
   "metadata": {},
   "outputs": [],
   "source": [
    "(ext:system \"dot -Tpdf -O /tmp/graph.dot\")"
   ]
  },
  {
   "cell_type": "code",
   "execution_count": null,
   "metadata": {},
   "outputs": [],
   "source": [
    "(ext:system \"open -n /tmp/graph.dot.pdf\")"
   ]
  }
 ],
 "metadata": {
  "kernelspec": {
   "display_name": "cando",
   "language": "lisp",
   "name": "cando"
  },
  "language_info": {
   "codemirror_mode": "text/x-common-lisp",
   "file_extension": ".lisp",
   "mimetype": "text/x-common-lisp",
   "name": "common-lisp",
   "pygments_lexer": "common-lisp",
   "version": "X3J13"
  }
 },
 "nbformat": 4,
 "nbformat_minor": 2
}
